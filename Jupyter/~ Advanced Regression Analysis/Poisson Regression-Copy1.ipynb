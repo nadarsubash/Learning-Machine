{
 "cells": [
  {
   "cell_type": "markdown",
   "metadata": {},
   "source": [
    "#### Invoking Libs"
   ]
  },
  {
   "cell_type": "code",
   "execution_count": 1,
   "metadata": {},
   "outputs": [],
   "source": [
    "import numpy as np\n",
    "\n",
    "import pandas as pd\n",
    "\n",
    "import statsmodels.api as sm"
   ]
  },
  {
   "cell_type": "markdown",
   "metadata": {},
   "source": [
    "#### Create Data Frame"
   ]
  },
  {
   "cell_type": "code",
   "execution_count": 2,
   "metadata": {},
   "outputs": [],
   "source": [
    "dataset = pd.DataFrame({'A':np.random.rand(100)*1000, \n",
    "\n",
    "                        'B':np.random.rand(100)*100,  \n",
    "\n",
    "                        'C':np.random.rand(100)*10, \n",
    "\n",
    "                        'target':np.random.randint(0, 5, 100)})"
   ]
  },
  {
   "cell_type": "markdown",
   "metadata": {},
   "source": [
    "#### Split the Variables"
   ]
  },
  {
   "cell_type": "code",
   "execution_count": 8,
   "metadata": {},
   "outputs": [],
   "source": [
    "# The code splits the dependent and the independent variables. The required parameters are also set here.\n",
    "\n",
    "X = dataset[['A','B','C']]\n",
    "\n",
    "X['constant'] = 1\n",
    "\n",
    "y = dataset['target']\n",
    "\n",
    "size = 1e5\n",
    "\n",
    "nbeta = 3\n"
   ]
  },
  {
   "cell_type": "markdown",
   "metadata": {},
   "source": [
    "#### Model Fitting"
   ]
  },
  {
   "cell_type": "code",
   "execution_count": 9,
   "metadata": {},
   "outputs": [
    {
     "data": {
      "text/html": [
       "<table class=\"simpletable\">\n",
       "<caption>Generalized Linear Model Regression Results</caption>\n",
       "<tr>\n",
       "  <th>Dep. Variable:</th>       <td>target</td>      <th>  No. Observations:  </th>  <td>   100</td>  \n",
       "</tr>\n",
       "<tr>\n",
       "  <th>Model:</th>                 <td>GLM</td>       <th>  Df Residuals:      </th>  <td>    96</td>  \n",
       "</tr>\n",
       "<tr>\n",
       "  <th>Model Family:</th>        <td>Poisson</td>     <th>  Df Model:          </th>  <td>     3</td>  \n",
       "</tr>\n",
       "<tr>\n",
       "  <th>Link Function:</th>         <td>log</td>       <th>  Scale:             </th> <td>  1.0000</td> \n",
       "</tr>\n",
       "<tr>\n",
       "  <th>Method:</th>               <td>IRLS</td>       <th>  Log-Likelihood:    </th> <td> -176.68</td> \n",
       "</tr>\n",
       "<tr>\n",
       "  <th>Date:</th>           <td>Mon, 13 May 2019</td> <th>  Deviance:          </th> <td>  131.19</td> \n",
       "</tr>\n",
       "<tr>\n",
       "  <th>Time:</th>               <td>10:34:58</td>     <th>  Pearson chi2:      </th>  <td>  96.0</td>  \n",
       "</tr>\n",
       "<tr>\n",
       "  <th>No. Iterations:</th>         <td>4</td>        <th>  Covariance Type:   </th> <td>nonrobust</td>\n",
       "</tr>\n",
       "</table>\n",
       "<table class=\"simpletable\">\n",
       "<tr>\n",
       "      <td></td>        <th>coef</th>     <th>std err</th>      <th>z</th>      <th>P>|z|</th>  <th>[0.025</th>    <th>0.975]</th>  \n",
       "</tr>\n",
       "<tr>\n",
       "  <th>A</th>        <td> 1.187e-05</td> <td>    0.000</td> <td>    0.051</td> <td> 0.960</td> <td>   -0.000</td> <td>    0.000</td>\n",
       "</tr>\n",
       "<tr>\n",
       "  <th>B</th>        <td>   -0.0014</td> <td>    0.002</td> <td>   -0.561</td> <td> 0.575</td> <td>   -0.006</td> <td>    0.003</td>\n",
       "</tr>\n",
       "<tr>\n",
       "  <th>C</th>        <td>    0.0155</td> <td>    0.026</td> <td>    0.598</td> <td> 0.550</td> <td>   -0.035</td> <td>    0.066</td>\n",
       "</tr>\n",
       "<tr>\n",
       "  <th>constant</th> <td>    0.7257</td> <td>    0.239</td> <td>    3.039</td> <td> 0.002</td> <td>    0.258</td> <td>    1.194</td>\n",
       "</tr>\n",
       "</table>"
      ],
      "text/plain": [
       "<class 'statsmodels.iolib.summary.Summary'>\n",
       "\"\"\"\n",
       "                 Generalized Linear Model Regression Results                  \n",
       "==============================================================================\n",
       "Dep. Variable:                 target   No. Observations:                  100\n",
       "Model:                            GLM   Df Residuals:                       96\n",
       "Model Family:                 Poisson   Df Model:                            3\n",
       "Link Function:                    log   Scale:                          1.0000\n",
       "Method:                          IRLS   Log-Likelihood:                -176.68\n",
       "Date:                Mon, 13 May 2019   Deviance:                       131.19\n",
       "Time:                        10:34:58   Pearson chi2:                     96.0\n",
       "No. Iterations:                     4   Covariance Type:             nonrobust\n",
       "==============================================================================\n",
       "                 coef    std err          z      P>|z|      [0.025      0.975]\n",
       "------------------------------------------------------------------------------\n",
       "A           1.187e-05      0.000      0.051      0.960      -0.000       0.000\n",
       "B             -0.0014      0.002     -0.561      0.575      -0.006       0.003\n",
       "C              0.0155      0.026      0.598      0.550      -0.035       0.066\n",
       "constant       0.7257      0.239      3.039      0.002       0.258       1.194\n",
       "==============================================================================\n",
       "\"\"\""
      ]
     },
     "execution_count": 9,
     "metadata": {},
     "output_type": "execute_result"
    }
   ],
   "source": [
    "# Using the below code , we are fitting the Model and viewing the results.\n",
    "fam = sm.families.Poisson()\n",
    "\n",
    "#initializing\n",
    "pois_glm = sm.GLM(y,X, family=fam)\n",
    "\n",
    "#fittinh\n",
    "pois_res = pois_glm.fit()\n",
    "\n",
    "# view summary\n",
    "pois_res.summary()\n"
   ]
  },
  {
   "cell_type": "markdown",
   "metadata": {},
   "source": [
    "Interpreting the results\n",
    "On viewing the results and the coefficient values, we can say to what extent each coef is explaining the log of count data i.e the dependent variable.\n",
    "\n",
    "The rest of the values are what a Regression Output shows."
   ]
  }
 ],
 "metadata": {
  "kernelspec": {
   "display_name": "Python 3",
   "language": "python",
   "name": "python3"
  },
  "language_info": {
   "codemirror_mode": {
    "name": "ipython",
    "version": 3
   },
   "file_extension": ".py",
   "mimetype": "text/x-python",
   "name": "python",
   "nbconvert_exporter": "python",
   "pygments_lexer": "ipython3",
   "version": "3.7.0"
  }
 },
 "nbformat": 4,
 "nbformat_minor": 2
}
