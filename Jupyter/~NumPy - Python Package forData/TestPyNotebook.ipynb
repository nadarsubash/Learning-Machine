{
 "cells": [
  {
   "cell_type": "markdown",
   "metadata": {},
   "source": [
    "# 1. Creation of NumpyArrays"
   ]
  },
  {
   "cell_type": "markdown",
   "metadata": {},
   "source": [
    "### Creating Array"
   ]
  },
  {
   "cell_type": "code",
   "execution_count": 11,
   "metadata": {},
   "outputs": [
    {
     "name": "stdout",
     "output_type": "stream",
     "text": [
      "[ 5  8  9 10 11]\n"
     ]
    }
   ],
   "source": [
    "import numpy as np\n",
    "x = np.array([5, 8, \n",
    "              9, 10, \n",
    "              11]) # using 'array' method\n",
    "\n",
    "type(x)   # Displays type of array 'x'\n",
    "print(x)"
   ]
  },
  {
   "cell_type": "code",
   "execution_count": 32,
   "metadata": {},
   "outputs": [
    {
     "name": "stdout",
     "output_type": "stream",
     "text": [
      "[[ 6  9  5]\n",
      " [10 82 34]]\n"
     ]
    }
   ],
   "source": [
    "y = np.array([[6, 9, 5], \n",
    "              [10, 82, 34]])  \n",
    "print(y)"
   ]
  },
  {
   "cell_type": "markdown",
   "metadata": {},
   "source": [
    "### Array Attributes"
   ]
  },
  {
   "cell_type": "code",
   "execution_count": 33,
   "metadata": {},
   "outputs": [
    {
     "name": "stdout",
     "output_type": "stream",
     "text": [
      "2 (2, 3) 6 int32 4 24\n"
     ]
    }
   ],
   "source": [
    "print(y.ndim, y.shape, y.size, y.dtype, y.itemsize, y.nbytes)"
   ]
  },
  {
   "cell_type": "code",
   "execution_count": 15,
   "metadata": {
    "scrolled": true
   },
   "outputs": [
    {
     "name": "stdout",
     "output_type": "stream",
     "text": [
      "complex128\n"
     ]
    }
   ],
   "source": [
    "z = np.array([3+4j, 0.4+7.8j])\n",
    "print(z.dtype)"
   ]
  },
  {
   "cell_type": "code",
   "execution_count": 16,
   "metadata": {},
   "outputs": [
    {
     "name": "stdout",
     "output_type": "stream",
     "text": [
      "8\n"
     ]
    }
   ],
   "source": [
    "x = np.array([[3.2, 7.8, 9.2],\n",
    "             [4.5, 9.1, 1.2]], dtype='int64')\n",
    "print(x.itemsize)"
   ]
  },
  {
   "cell_type": "markdown",
   "metadata": {},
   "source": [
    "### Multi Dimensional Array"
   ]
  },
  {
   "cell_type": "code",
   "execution_count": 30,
   "metadata": {},
   "outputs": [
    {
     "name": "stdout",
     "output_type": "stream",
     "text": [
      "<class 'numpy.ndarray'>\n",
      "2 (2, 4) 8 4 int32\n"
     ]
    }
   ],
   "source": [
    "n = [[-1, -2, -3, -4], [-2,-4, -6, -8]]\n",
    "x = np.array(n)\n",
    "print(type(x))\n",
    "print(x.ndim, x.shape, x.size, x.itemsize, x.dtype)"
   ]
  },
  {
   "cell_type": "code",
   "execution_count": 32,
   "metadata": {},
   "outputs": [
    {
     "data": {
      "text/plain": [
       "(numpy.ndarray, 3, (3, 3, 2))"
      ]
     },
     "execution_count": 32,
     "metadata": {},
     "output_type": "execute_result"
    }
   ],
   "source": [
    "a = [[[4.1, 2.5], [1.1, 2.3], [9.1, 2.5]], \n",
    "     [[8.6, 9.9], [3.6, 4.3], [6.6, 0.3]],\n",
    "     [[8.6, 9.9], [3.6, 4.3], [6.6, 0.3]]]\n",
    "\n",
    "x = np.array(a, dtype='float64')\n",
    "\n",
    "type(x), x.ndim, x.shape"
   ]
  },
  {
   "cell_type": "markdown",
   "metadata": {},
   "source": [
    "### Array Creation Methods \n",
    "#### ones, zeros, full, eye"
   ]
  },
  {
   "cell_type": "code",
   "execution_count": 39,
   "metadata": {},
   "outputs": [
    {
     "name": "stdout",
     "output_type": "stream",
     "text": [
      "[[0. 0. 0. 0.]\n",
      " [0. 0. 0. 0.]]\n"
     ]
    }
   ],
   "source": [
    "x = np.zeros(shape=(2,4))\n",
    "print(x)"
   ]
  },
  {
   "cell_type": "code",
   "execution_count": 31,
   "metadata": {},
   "outputs": [
    {
     "name": "stdout",
     "output_type": "stream",
     "text": [
      "[[10.5 10.5 10.5]\n",
      " [10.5 10.5 10.5]]\n",
      "[[[0.52275371 0.23409532]\n",
      "  [0.52275371 0.23409532]\n",
      "  [0.52275371 0.23409532]\n",
      "  [0.52275371 0.23409532]]\n",
      "\n",
      " [[0.52275371 0.23409532]\n",
      "  [0.52275371 0.23409532]\n",
      "  [0.52275371 0.23409532]\n",
      "  [0.52275371 0.23409532]]\n",
      "\n",
      " [[0.52275371 0.23409532]\n",
      "  [0.52275371 0.23409532]\n",
      "  [0.52275371 0.23409532]\n",
      "  [0.52275371 0.23409532]]]\n"
     ]
    }
   ],
   "source": [
    "y = np.full(shape=(2,3), fill_value=10.5)\n",
    "print(y)\n",
    "y1 = np.full(shape=(3,4,2), fill_value=np.random.rand(2))\n",
    "print(y1)"
   ]
  },
  {
   "cell_type": "code",
   "execution_count": 34,
   "metadata": {},
   "outputs": [
    {
     "name": "stdout",
     "output_type": "stream",
     "text": [
      "[[1. 0. 0. 0.]\n",
      " [0. 1. 0. 0.]\n",
      " [0. 0. 1. 0.]\n",
      " [0. 0. 0. 1.]]\n",
      "(4, 4) 2\n",
      "[[0. 0. 1. 0.]\n",
      " [0. 0. 0. 1.]\n",
      " [0. 0. 0. 0.]]\n"
     ]
    }
   ],
   "source": [
    "z = np.eye(4,4)  #gives 1 diagonally\n",
    "print(z)\n",
    "print(z.shape, z.ndim)\n",
    "z1 = np.eye(3,4,2)\n",
    "print(z1)"
   ]
  },
  {
   "cell_type": "code",
   "execution_count": 24,
   "metadata": {},
   "outputs": [
    {
     "name": "stdout",
     "output_type": "stream",
     "text": [
      "[[1. 1.]\n",
      " [1. 1.]\n",
      " [1. 1.]\n",
      " [1. 1.]]\n"
     ]
    }
   ],
   "source": [
    "x1 = np.ones(shape=(4,2))\n",
    "print(x1)"
   ]
  },
  {
   "cell_type": "markdown",
   "metadata": {},
   "source": [
    "### Numeric Sequence Generators\n",
    "#### arange & linspace"
   ]
  },
  {
   "cell_type": "code",
   "execution_count": 37,
   "metadata": {},
   "outputs": [
    {
     "name": "stdout",
     "output_type": "stream",
     "text": [
      "[ 3.   5.5  8.  10.5 13. ]\n",
      "[ 2  4  6  8 10 12 14 16 18 20 22 24 26 28 30 32 34 36 38 40]\n"
     ]
    }
   ],
   "source": [
    "# arange : Syntax - numpy.arange([start, ]stop, [step, ]dtype=None)\n",
    "y = np.arange(3, 15, 2.5) # 2.5 step between\n",
    "print(y)\n",
    "\n",
    "#Define a ndarray x6, having first 20 even numbers.\n",
    "y1 = np.arange(2, 41, 2) \n",
    "print(y1)"
   ]
  },
  {
   "cell_type": "code",
   "execution_count": 38,
   "metadata": {},
   "outputs": [
    {
     "name": "stdout",
     "output_type": "stream",
     "text": [
      "[ 3.  7. 11. 15.]\n",
      "[10.         10.34482759 10.68965517 11.03448276 11.37931034 11.72413793\n",
      " 12.06896552 12.4137931  12.75862069 13.10344828 13.44827586 13.79310345\n",
      " 14.13793103 14.48275862 14.82758621 15.17241379 15.51724138 15.86206897\n",
      " 16.20689655 16.55172414 16.89655172 17.24137931 17.5862069  17.93103448\n",
      " 18.27586207 18.62068966 18.96551724 19.31034483 19.65517241 20.        ]\n"
     ]
    }
   ],
   "source": [
    "# linspace : Syntax - numpy.linspace(start, stop, #num inbetween, endpoint=True, retstep=False, dtype=None)\n",
    "y = np.linspace(3, 15, 4) # 5 is size of array 'y'\n",
    "print(y)\n",
    "\n",
    "#Define a ndarray, having equally spaced 30 numbers between 10 and 20.\n",
    "y1 = np.linspace(10, 20, 30) \n",
    "print(y1)"
   ]
  },
  {
   "cell_type": "markdown",
   "metadata": {},
   "source": [
    "### Random Numbers Generator\n",
    "#### rand, randint"
   ]
  },
  {
   "cell_type": "code",
   "execution_count": 41,
   "metadata": {},
   "outputs": [
    {
     "name": "stdout",
     "output_type": "stream",
     "text": [
      "[0.54340494 0.27836939 0.42451759]\n"
     ]
    }
   ],
   "source": [
    "np.random.seed(100) # setting seed\n",
    "x = np.random.rand(3) # 3 random numbers between 0 and 1\n",
    "\n",
    "print(x)"
   ]
  },
  {
   "cell_type": "code",
   "execution_count": 50,
   "metadata": {},
   "outputs": [
    {
     "name": "stdout",
     "output_type": "stream",
     "text": [
      "[18 34 13]\n"
     ]
    }
   ],
   "source": [
    "np.random.seed(100) # setting seed\n",
    "y = np.random.randint(10, 50, 3) # 3 random integers between 10 and 50\n",
    "\n",
    "print(y)"
   ]
  },
  {
   "cell_type": "code",
   "execution_count": 60,
   "metadata": {},
   "outputs": [
    {
     "name": "stdout",
     "output_type": "stream",
     "text": [
      "<mtrand.RandomState object at 0x0000021FA3513708>\n"
     ]
    }
   ],
   "source": [
    "y = np.random.RandomState(100) # 3 random integers between 10 and 50\n",
    "print(y)"
   ]
  },
  {
   "cell_type": "markdown",
   "metadata": {},
   "source": [
    "### Simulating Normal Distribution"
   ]
  },
  {
   "cell_type": "code",
   "execution_count": 61,
   "metadata": {},
   "outputs": [
    {
     "name": "stdout",
     "output_type": "stream",
     "text": [
      "[-1.74976547  0.3426804   1.1530358 ]\n"
     ]
    }
   ],
   "source": [
    "np.random.seed(100)\n",
    "x = np.random.randn(3) # Standard normal distribution\n",
    "print(x)"
   ]
  },
  {
   "cell_type": "code",
   "execution_count": 42,
   "metadata": {},
   "outputs": [
    {
     "name": "stdout",
     "output_type": "stream",
     "text": [
      "[ 6.50046905 10.68536081 12.30607161]\n",
      "\n",
      "[4.36890991 7.45330197 6.2855471  5.55294917 2.32489167 4.52626042\n",
      " 5.63750361 3.85493254 6.08790872 3.54101237 7.04211768 6.68180201\n",
      " 4.73897214 3.67179906 7.57433171 3.90466094 2.20420438 9.04745415\n",
      " 8.85401294 4.37030215]\n"
     ]
    }
   ],
   "source": [
    "np.random.seed(100)\n",
    "x = 10 + 2*np.random.randn(3) # normal distribution with mean 10 and sd 2\n",
    "print(x, end='\\n\\n')\n",
    "\n",
    "#Simulate a random normal distribution of 20 elements, whose mean is 5 and standard deviation 2.5 . Capture the result in x5.\n",
    "x1 = 5 + 2.5*np.random.randn(20)\n",
    "print(x1)"
   ]
  },
  {
   "cell_type": "markdown",
   "metadata": {},
   "source": [
    "### Reading Data from a file"
   ]
  },
  {
   "cell_type": "code",
   "execution_count": 45,
   "metadata": {},
   "outputs": [
    {
     "name": "stdout",
     "output_type": "stream",
     "text": [
      "[88.25 93.45 72.6  90.9  72.3  78.85 92.15 65.75 90.5  92.45 89.25 94.5\n",
      " 88.7 ]\n",
      "1 (13,)\n"
     ]
    }
   ],
   "source": [
    "from io import StringIO\n",
    "import numpy as np\n",
    "\n",
    "x = StringIO('''88.25 93.45 72.60 90.90 72.3 78.85 92.15 65.75 90.5 92.45 89.25 94.50 88.70''')\n",
    "\n",
    "d = np.loadtxt(x,delimiter=' ')\n",
    "\n",
    "print(d)\n",
    "\n",
    "print(d.ndim, d.shape)"
   ]
  },
  {
   "cell_type": "markdown",
   "metadata": {},
   "source": [
    "# 2. Array Shape Manipulation"
   ]
  },
  {
   "cell_type": "markdown",
   "metadata": {},
   "source": [
    "### Reshaping ndarrays"
   ]
  },
  {
   "cell_type": "code",
   "execution_count": 49,
   "metadata": {},
   "outputs": [
    {
     "name": "stdout",
     "output_type": "stream",
     "text": [
      "[18 34 77 97 89 58 20 62]\n",
      "\n",
      "[[18 34 77 97]\n",
      " [89 58 20 62]]\n",
      "\n",
      "[[[18 34]\n",
      "  [77 97]]\n",
      "\n",
      " [[89 58]\n",
      "  [20 62]]]\n"
     ]
    }
   ],
   "source": [
    "np.random.seed(100)\n",
    "x = np.random.randint(10, 100, 8)\n",
    "print(x, end='\\n\\n')\n",
    "\n",
    "y = x.reshape(2,4)\n",
    "print(y, end='\\n\\n')\n",
    "\n",
    "z = x.reshape(2,2,2)\n",
    "print(z)"
   ]
  },
  {
   "cell_type": "markdown",
   "metadata": {},
   "source": [
    "### Stacking arrays - vertically & horizontally"
   ]
  },
  {
   "cell_type": "code",
   "execution_count": 50,
   "metadata": {},
   "outputs": [
    {
     "data": {
      "text/plain": [
       "array([[-1,  1],\n",
       "       [-3,  3],\n",
       "       [-2,  2],\n",
       "       [-4,  4]])"
      ]
     },
     "execution_count": 50,
     "metadata": {},
     "output_type": "execute_result"
    }
   ],
   "source": [
    "x = np.array([[-1, 1], [-3, 3]])\n",
    "y = np.array([[-2, 2], [-4, 4]])\n",
    "np.vstack((x,y))"
   ]
  },
  {
   "cell_type": "code",
   "execution_count": 51,
   "metadata": {},
   "outputs": [
    {
     "data": {
      "text/plain": [
       "array([[-1,  1, -2,  2, -5,  5],\n",
       "       [-3,  3, -4,  4, -6,  6]])"
      ]
     },
     "execution_count": 51,
     "metadata": {},
     "output_type": "execute_result"
    }
   ],
   "source": [
    "x = np.array([[-1, 1], [-3, 3]])\n",
    "y = np.array([[-2, 2], [-4, 4]])\n",
    "z = np.array([[-5, 5], [-6, 6]])\n",
    "np.hstack((x,y,z))"
   ]
  },
  {
   "cell_type": "markdown",
   "metadata": {},
   "source": [
    "### Splitting Arrays - Vertically and Horizontally"
   ]
  },
  {
   "cell_type": "code",
   "execution_count": 62,
   "metadata": {},
   "outputs": [
    {
     "name": "stdout",
     "output_type": "stream",
     "text": [
      "[[ 0  1  2  3  4]\n",
      " [ 5  6  7  8  9]\n",
      " [10 11 12 13 14]\n",
      " [15 16 17 18 19]\n",
      " [20 21 22 23 24]\n",
      " [25 26 27 28 29]]\n",
      "\n",
      "[array([[0, 1, 2, 3, 4],\n",
      "       [5, 6, 7, 8, 9]]), array([[10, 11, 12, 13, 14],\n",
      "       [15, 16, 17, 18, 19]]), array([[20, 21, 22, 23, 24],\n",
      "       [25, 26, 27, 28, 29]])]\n",
      "\n",
      "[[0 1 2 3 4]\n",
      " [5 6 7 8 9]]\n",
      "\n",
      "[[10 11 12 13 14]\n",
      " [15 16 17 18 19]]\n"
     ]
    }
   ],
   "source": [
    "# vsplit\n",
    "x = np.arange(30).reshape(6, 5)\n",
    "res = np.vsplit(x, 3) # number of arrays to be created - 3\n",
    "print(x, end='\\n\\n')\n",
    "print(res, end='\\n\\n')\n",
    "print(res[0], end='\\n\\n')\n",
    "print(res[1])"
   ]
  },
  {
   "cell_type": "code",
   "execution_count": 59,
   "metadata": {},
   "outputs": [
    {
     "name": "stdout",
     "output_type": "stream",
     "text": [
      "[[0 1 2 3 4]\n",
      " [5 6 7 8 9]]\n",
      "\n",
      "[[10 11 12 13 14]\n",
      " [15 16 17 18 19]\n",
      " [20 21 22 23 24]]\n",
      "\n",
      "[[25 26 27 28 29]]\n"
     ]
    }
   ],
   "source": [
    "# It is also possible to split at specific row numbers using vsplit\n",
    "x = np.arange(30).reshape(6, 5)\n",
    "\n",
    "res = np.vsplit(x, (2, 5)) #first split on index 2 (row 3) and then on 5th index (row6)\n",
    "\n",
    "print(res[0], end='\\n\\n')\n",
    "\n",
    "print(res[1], end='\\n\\n')\n",
    "\n",
    "print(res[2])"
   ]
  },
  {
   "cell_type": "code",
   "execution_count": 65,
   "metadata": {},
   "outputs": [
    {
     "name": "stdout",
     "output_type": "stream",
     "text": [
      "[[0 1 2 3 4]\n",
      " [5 6 7 8 9]]\n",
      "\n",
      "[[0 1]\n",
      " [5 6]]\n",
      "\n",
      "[[2 3]\n",
      " [7 8]]\n",
      "\n",
      "[[4]\n",
      " [9]]\n"
     ]
    }
   ],
   "source": [
    "# hsplit\n",
    "x = np.arange(10).reshape(2, 5)\n",
    "res = np.hsplit(x, (2,4))\n",
    "\n",
    "print(x, end='\\n\\n')\n",
    "print(res[0], end='\\n\\n')\n",
    "print(res[1], end='\\n\\n')\n",
    "print(res[2])"
   ]
  },
  {
   "cell_type": "markdown",
   "metadata": {},
   "source": [
    "# 3. Basic Operations on Numpy Arrays"
   ]
  },
  {
   "cell_type": "markdown",
   "metadata": {},
   "source": [
    "### Scalars"
   ]
  },
  {
   "cell_type": "code",
   "execution_count": 78,
   "metadata": {},
   "outputs": [
    {
     "name": "stdout",
     "output_type": "stream",
     "text": [
      "[[10 11 12]\n",
      " [13 14 15]]\n",
      "\n",
      "[[ 0  3  6]\n",
      " [ 9 12 15]]\n",
      "\n",
      "[[0 1 0]\n",
      " [1 0 1]]\n"
     ]
    }
   ],
   "source": [
    "x = np.arange(6).reshape(2,3)\n",
    "\n",
    "print(x + 10, end='\\n\\n')\n",
    "print(x * 3, end='\\n\\n')\n",
    "print(x % 2)"
   ]
  },
  {
   "cell_type": "code",
   "execution_count": 79,
   "metadata": {},
   "outputs": [
    {
     "name": "stdout",
     "output_type": "stream",
     "text": [
      "[[ 3 -3]\n",
      " [ 3 -3]]\n",
      "\n",
      "[[ -4  -4]\n",
      " [-10 -10]]\n"
     ]
    }
   ],
   "source": [
    "x = np.array([[-1, 1], [-2, 2]])\n",
    "y = np.array([[4, -4], [5, -5]])\n",
    "\n",
    "print(x + y, end='\\n\\n')\n",
    "print(x * y)"
   ]
  },
  {
   "cell_type": "markdown",
   "metadata": {},
   "source": [
    "### NumPy Array Methods"
   ]
  },
  {
   "cell_type": "code",
   "execution_count": 2,
   "metadata": {},
   "outputs": [
    {
     "name": "stdout",
     "output_type": "stream",
     "text": [
      "[[0 1]\n",
      " [4 9]]\n",
      "\n",
      "[[0.         0.84147098]\n",
      " [0.90929743 0.14112001]]\n"
     ]
    }
   ],
   "source": [
    "import numpy as np\n",
    "\n",
    "x = np.array([[0,1], [2,3]])\n",
    "\n",
    "print(np.square(x), end='\\n\\n')\n",
    "\n",
    "print(np.sin(x))"
   ]
  },
  {
   "cell_type": "code",
   "execution_count": 4,
   "metadata": {},
   "outputs": [
    {
     "name": "stdout",
     "output_type": "stream",
     "text": [
      "6\n",
      "\n",
      "[2 4]\n",
      "\n",
      "[1 5]\n"
     ]
    }
   ],
   "source": [
    "x = np.array([[0,1], [2, 3]])\n",
    "\n",
    "print(x.sum(), end='\\n\\n')\n",
    "\n",
    "print(x.sum(axis=0), end='\\n\\n')\n",
    "\n",
    "print(x.sum(axis=1))"
   ]
  },
  {
   "cell_type": "markdown",
   "metadata": {},
   "source": [
    "# 4. SLICING"
   ]
  },
  {
   "cell_type": "markdown",
   "metadata": {},
   "source": [
    "#### A slice object is of the form start:end:step. All three are optional.\n",
    "#### Having only a single number inside square brackets refer to start index."
   ]
  },
  {
   "cell_type": "code",
   "execution_count": 9,
   "metadata": {},
   "outputs": [
    {
     "name": "stdout",
     "output_type": "stream",
     "text": [
      "10\n",
      "[10 15 20 25 30]\n",
      "[10 25]\n"
     ]
    }
   ],
   "source": [
    "x = np.array([5, 10, 15, 20, 25, 30, 35])\n",
    "\n",
    "print(x[1])  # Indexing\n",
    "\n",
    "print(x[1:6]) # Slicing\n",
    "\n",
    "print(x[1:6:3]) # Slicing"
   ]
  },
  {
   "cell_type": "code",
   "execution_count": 7,
   "metadata": {},
   "outputs": [
    {
     "name": "stdout",
     "output_type": "stream",
     "text": [
      "[[1]\n",
      " [4]]\n",
      "[3 4 5]\n",
      "[1 4]\n"
     ]
    }
   ],
   "source": [
    "import numpy as np\n",
    "y = np.array([[0, 1, 2], [3, 4, 5]])\n",
    "\n",
    "print(y[0:2, 1:2]) \n",
    "\n",
    "print(y[1])   \n",
    "\n",
    "print(y[:, 1]) "
   ]
  },
  {
   "cell_type": "code",
   "execution_count": 14,
   "metadata": {},
   "outputs": [
    {
     "name": "stdout",
     "output_type": "stream",
     "text": [
      "Row : [-1  1]\n",
      "Row : [-2  2]\n",
      "-1\n",
      "1\n",
      "-2\n",
      "2\n"
     ]
    }
   ],
   "source": [
    "x = np.array([[-1, 1], [-2, 2]])\n",
    "\n",
    "for row in x:\n",
    "    print('Row :',row)\n",
    "  \n",
    "for a in np.nditer(x):\n",
    "    print(a)"
   ]
  },
  {
   "cell_type": "markdown",
   "metadata": {},
   "source": [
    "#### Boolean Indexing"
   ]
  },
  {
   "cell_type": "code",
   "execution_count": 15,
   "metadata": {},
   "outputs": [
    {
     "name": "stdout",
     "output_type": "stream",
     "text": [
      "[[ True False  True False  True]\n",
      " [False  True False  True False]]\n",
      "[0 2 4 6 8]\n"
     ]
    }
   ],
   "source": [
    "x = np.arange(10).reshape(2,5)\n",
    "\n",
    "condition = x % 2 == 0\n",
    "\n",
    "print(condition)\n",
    "print(x[condition])"
   ]
  },
  {
   "cell_type": "code",
   "execution_count": 36,
   "metadata": {},
   "outputs": [
    {
     "name": "stdout",
     "output_type": "stream",
     "text": [
      "[[ 0  1  2  3  4]\n",
      " [ 5  6  7  8  9]\n",
      " [10 11 12 13 14]\n",
      " [15 16 17 18 19]]\n"
     ]
    }
   ],
   "source": [
    "x = np.arange(20).reshape(4, 5)\n",
    "print(x)"
   ]
  }
 ],
 "metadata": {
  "kernelspec": {
   "display_name": "Python 3",
   "language": "python",
   "name": "python3"
  },
  "language_info": {
   "codemirror_mode": {
    "name": "ipython",
    "version": 3
   },
   "file_extension": ".py",
   "mimetype": "text/x-python",
   "name": "python",
   "nbconvert_exporter": "python",
   "pygments_lexer": "ipython3",
   "version": "3.7.0"
  }
 },
 "nbformat": 4,
 "nbformat_minor": 2
}
