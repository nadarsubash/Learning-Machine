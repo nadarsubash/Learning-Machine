{
 "cells": [
  {
   "cell_type": "markdown",
   "metadata": {},
   "source": [
    "# Time Zone"
   ]
  },
  {
   "cell_type": "code",
   "execution_count": 1,
   "metadata": {},
   "outputs": [],
   "source": [
    "import pytz"
   ]
  },
  {
   "cell_type": "code",
   "execution_count": 6,
   "metadata": {},
   "outputs": [
    {
     "data": {
      "text/plain": [
       "['US/Eastern', 'US/Hawaii', 'US/Mountain', 'US/Pacific', 'UTC']"
      ]
     },
     "execution_count": 6,
     "metadata": {},
     "output_type": "execute_result"
    }
   ],
   "source": [
    "#select 5 common timezones\n",
    "pytz.common_timezones[-5:]"
   ]
  },
  {
   "cell_type": "code",
   "execution_count": 7,
   "metadata": {},
   "outputs": [
    {
     "data": {
      "text/plain": [
       "<DstTzInfo 'US/Eastern' LMT-1 day, 19:04:00 STD>"
      ]
     },
     "execution_count": 7,
     "metadata": {},
     "output_type": "execute_result"
    }
   ],
   "source": [
    "# get the current time at the specified time zone.\n",
    "pytz.timezone('US/Eastern')"
   ]
  },
  {
   "cell_type": "markdown",
   "metadata": {},
   "source": [
    ">> **Localization**\n",
    "\n",
    "Localization is the first step towards standardizing the time zone. Any specific time stamp is first localized to a given time zone.\n",
    "\n",
    "You will now learn how to set your datetime index to a specific time zone."
   ]
  },
  {
   "cell_type": "code",
   "execution_count": 8,
   "metadata": {},
   "outputs": [],
   "source": [
    "import pandas as pd\n",
    "import random"
   ]
  },
  {
   "cell_type": "code",
   "execution_count": 11,
   "metadata": {},
   "outputs": [],
   "source": [
    "import numpy as np"
   ]
  },
  {
   "cell_type": "code",
   "execution_count": 9,
   "metadata": {},
   "outputs": [],
   "source": [
    "# an array of 6 dates are created for daily in timezone UTC starting from 9-18-2017  \n",
    "timeZoneRng = pd.date_range('9/18/2017 9:30', periods=6, freq='D', tz='UTC')"
   ]
  },
  {
   "cell_type": "markdown",
   "metadata": {},
   "source": [
    "The given timezone is localized to UTC using the tz= parameter.\n",
    "\n",
    "You can also localize using the tz_localize() function."
   ]
  },
  {
   "cell_type": "code",
   "execution_count": 13,
   "metadata": {},
   "outputs": [],
   "source": [
    "# converting the array into time series table with 6 (len(timeZoneRng)) random numbers with index as the dates in timeZoneRng\n",
    "timeZoneTs = pd.Series(np.random.randn(len(timeZoneRng)), index=timeZoneRng)"
   ]
  },
  {
   "cell_type": "code",
   "execution_count": 14,
   "metadata": {},
   "outputs": [
    {
     "data": {
      "text/plain": [
       "2017-09-18 09:30:00+00:00   -1.701610\n",
       "2017-09-19 09:30:00+00:00   -0.106054\n",
       "2017-09-20 09:30:00+00:00   -1.274702\n",
       "2017-09-21 09:30:00+00:00   -0.299764\n",
       "2017-09-22 09:30:00+00:00    0.116124\n",
       "Freq: D, dtype: float64"
      ]
     },
     "execution_count": 14,
     "metadata": {},
     "output_type": "execute_result"
    }
   ],
   "source": [
    "timeZoneTs.head()"
   ]
  },
  {
   "cell_type": "code",
   "execution_count": 18,
   "metadata": {},
   "outputs": [
    {
     "data": {
      "text/plain": [
       "<UTC>"
      ]
     },
     "execution_count": 18,
     "metadata": {},
     "output_type": "execute_result"
    }
   ],
   "source": [
    "#to check timezone (index) of the databse\n",
    "timeZoneTs.index.tz"
   ]
  },
  {
   "cell_type": "code",
   "execution_count": 19,
   "metadata": {},
   "outputs": [
    {
     "data": {
      "text/plain": [
       "array([False, False, False, False, False, False])"
      ]
     },
     "execution_count": 19,
     "metadata": {},
     "output_type": "execute_result"
    }
   ],
   "source": [
    "#to check if leap year\n",
    "timeZoneTs.index.is_leap_year"
   ]
  },
  {
   "cell_type": "markdown",
   "metadata": {},
   "source": [
    ">> **Conversion**\n",
    "\n",
    "In the previous card, you have seen how to localize your date-time value to a particular time zone.\n",
    "\n",
    "If you want to convert your date-time value to another time zone you can use the tz_convert function."
   ]
  },
  {
   "cell_type": "code",
   "execution_count": 21,
   "metadata": {},
   "outputs": [
    {
     "data": {
      "text/plain": [
       "2017-09-18 05:30:00-04:00   -1.701610\n",
       "2017-09-19 05:30:00-04:00   -0.106054\n",
       "2017-09-20 05:30:00-04:00   -1.274702\n",
       "2017-09-21 05:30:00-04:00   -0.299764\n",
       "2017-09-22 05:30:00-04:00    0.116124\n",
       "2017-09-23 05:30:00-04:00   -0.661014\n",
       "Freq: D, dtype: float64"
      ]
     },
     "execution_count": 21,
     "metadata": {},
     "output_type": "execute_result"
    }
   ],
   "source": [
    "timeZoneTs.tz_convert('US/Eastern')"
   ]
  },
  {
   "cell_type": "markdown",
   "metadata": {},
   "source": [
    ">> **Using Timestamp**\n",
    "\n",
    "You can create date values and convert them to different time zones and also perform similar operations with time stamp values."
   ]
  },
  {
   "cell_type": "code",
   "execution_count": 25,
   "metadata": {},
   "outputs": [
    {
     "data": {
      "text/plain": [
       "Timestamp('2011-09-19 04:00:00+0000', tz='UTC')"
      ]
     },
     "execution_count": 25,
     "metadata": {},
     "output_type": "execute_result"
    }
   ],
   "source": [
    "#explains how to create a sample timestamp using TimeStamp function, Localize and Convert the timestamp to the desired value.\n",
    "sampleTimeStamp =  pd.Timestamp('2011-09-19 04:00')\n",
    "\n",
    "timeStamp_utc = sampleTimeStamp.tz_localize('UTC')\n",
    "\n",
    "timeStamp_utc"
   ]
  },
  {
   "cell_type": "code",
   "execution_count": 26,
   "metadata": {},
   "outputs": [
    {
     "data": {
      "text/plain": [
       "Timestamp('2011-09-19 00:00:00-0400', tz='US/Eastern')"
      ]
     },
     "execution_count": 26,
     "metadata": {},
     "output_type": "execute_result"
    }
   ],
   "source": [
    "timeStamp_utc.tz_convert('US/Eastern')"
   ]
  },
  {
   "cell_type": "markdown",
   "metadata": {},
   "source": [
    ">> **Daylight Savings**\n",
    "\n",
    "Some timezones follow the daylight savings concept whereas some don't\n",
    "\n",
    "To offset the time based on Daylight Savings, you can use the DateOffset() function."
   ]
  },
  {
   "cell_type": "code",
   "execution_count": 27,
   "metadata": {},
   "outputs": [],
   "source": [
    "from pandas.tseries.offsets import Hour"
   ]
  },
  {
   "cell_type": "code",
   "execution_count": 32,
   "metadata": {},
   "outputs": [],
   "source": [
    "# 30 minutes before DST transition\n",
    "stamp = pd.Timestamp('2012-03-12 01:30', tz='US/Eastern')"
   ]
  },
  {
   "cell_type": "code",
   "execution_count": 29,
   "metadata": {},
   "outputs": [
    {
     "data": {
      "text/plain": [
       "Timestamp('2012-03-12 01:30:00-0400', tz='US/Eastern')"
      ]
     },
     "execution_count": 29,
     "metadata": {},
     "output_type": "execute_result"
    }
   ],
   "source": [
    "stamp"
   ]
  },
  {
   "cell_type": "code",
   "execution_count": 31,
   "metadata": {},
   "outputs": [
    {
     "data": {
      "text/plain": [
       "Timestamp('2012-03-12 02:30:00-0400', tz='US/Eastern')"
      ]
     },
     "execution_count": 31,
     "metadata": {},
     "output_type": "execute_result"
    }
   ],
   "source": [
    "stamp + Hour()"
   ]
  },
  {
   "cell_type": "code",
   "execution_count": 35,
   "metadata": {},
   "outputs": [
    {
     "data": {
      "text/plain": [
       "Timestamp('2012-11-04 00:30:00-0400', tz='US/Eastern')"
      ]
     },
     "execution_count": 35,
     "metadata": {},
     "output_type": "execute_result"
    }
   ],
   "source": [
    "# 90 minutes before DST transition\n",
    "stamp = pd.Timestamp('2012-11-04 00:30', tz='US/Eastern')\n",
    "stamp"
   ]
  },
  {
   "cell_type": "code",
   "execution_count": 36,
   "metadata": {},
   "outputs": [
    {
     "data": {
      "text/plain": [
       "Timestamp('2012-11-04 01:30:00-0500', tz='US/Eastern')"
      ]
     },
     "execution_count": 36,
     "metadata": {},
     "output_type": "execute_result"
    }
   ],
   "source": [
    "stamp + 2 * Hour()"
   ]
  },
  {
   "cell_type": "markdown",
   "metadata": {},
   "source": [
    ">> **Combining Different Timezones**\n",
    "\n",
    "When you work in a Multi National Company, you can get data from different time zone. But you have to bring them to one standard for working."
   ]
  },
  {
   "cell_type": "code",
   "execution_count": 39,
   "metadata": {},
   "outputs": [
    {
     "data": {
      "text/plain": [
       "2017-09-19 09:30:00   -0.510545\n",
       "2017-09-20 09:30:00    0.274777\n",
       "2017-09-21 09:30:00   -1.530613\n",
       "2017-09-22 09:30:00    0.804268\n",
       "2017-09-25 09:30:00   -1.632476\n",
       "2017-09-26 09:30:00   -1.225726\n",
       "2017-09-27 09:30:00   -1.037081\n",
       "2017-09-28 09:30:00   -0.979512\n",
       "2017-09-29 09:30:00    0.043820\n",
       "2017-10-02 09:30:00    1.716750\n",
       "Freq: B, dtype: float64"
      ]
     },
     "execution_count": 39,
     "metadata": {},
     "output_type": "execute_result"
    }
   ],
   "source": [
    "dateRng = pd.date_range('9/19/2017 9:30', periods=10, freq='B')\n",
    "\n",
    "timeSeries =  pd.Series(np.random.randn(len(dateRng)), index=dateRng)\n",
    "\n",
    "timeSeries"
   ]
  },
  {
   "cell_type": "code",
   "execution_count": 41,
   "metadata": {},
   "outputs": [
    {
     "name": "stdout",
     "output_type": "stream",
     "text": [
      "2017-09-19 09:30:00+08:00   -0.510545\n",
      "2017-09-20 09:30:00+08:00    0.274777\n",
      "2017-09-21 09:30:00+08:00   -1.530613\n",
      "2017-09-22 09:30:00+08:00    0.804268\n",
      "2017-09-25 09:30:00+08:00   -1.632476\n",
      "2017-09-26 09:30:00+08:00   -1.225726\n",
      "2017-09-27 09:30:00+08:00   -1.037081\n",
      "Freq: B, dtype: float64\n",
      "2017-09-21 10:30:00+09:00   -1.530613\n",
      "2017-09-22 10:30:00+09:00    0.804268\n",
      "2017-09-25 10:30:00+09:00   -1.632476\n",
      "2017-09-26 10:30:00+09:00   -1.225726\n",
      "2017-09-27 10:30:00+09:00   -1.037081\n",
      "Freq: B, dtype: float64\n"
     ]
    }
   ],
   "source": [
    "tz1 = timeSeries[:7].tz_localize('Asia/Singapore')\n",
    "print(tz1)\n",
    "\n",
    "tz2 = tz1[2:].tz_convert('Asia/Seoul')\n",
    "print(tz2)"
   ]
  },
  {
   "cell_type": "code",
   "execution_count": 42,
   "metadata": {},
   "outputs": [
    {
     "data": {
      "text/plain": [
       "DatetimeIndex(['2017-09-19 01:30:00+00:00', '2017-09-20 01:30:00+00:00',\n",
       "               '2017-09-21 01:30:00+00:00', '2017-09-22 01:30:00+00:00',\n",
       "               '2017-09-25 01:30:00+00:00', '2017-09-26 01:30:00+00:00',\n",
       "               '2017-09-27 01:30:00+00:00'],\n",
       "              dtype='datetime64[ns, UTC]', freq='B')"
      ]
     },
     "execution_count": 42,
     "metadata": {},
     "output_type": "execute_result"
    }
   ],
   "source": [
    "combine = tz1 + tz2\n",
    "\n",
    "combine.index"
   ]
  },
  {
   "cell_type": "markdown",
   "metadata": {},
   "source": [
    "# Plotting"
   ]
  },
  {
   "cell_type": "code",
   "execution_count": 43,
   "metadata": {},
   "outputs": [],
   "source": [
    "%matplotlib inline "
   ]
  },
  {
   "cell_type": "code",
   "execution_count": 49,
   "metadata": {},
   "outputs": [
    {
     "data": {
      "text/plain": [
       "2017-01-01    -5\n",
       "2017-02-01   -10\n",
       "2017-03-01   -20\n",
       "2017-04-01   -23\n",
       "2017-05-01   -30\n",
       "Freq: MS, dtype: int32"
      ]
     },
     "execution_count": 49,
     "metadata": {},
     "output_type": "execute_result"
    }
   ],
   "source": [
    "sampleRng = pd.date_range(start='2017', periods=120, freq='MS')\n",
    "\n",
    "sampleTs = pd.Series(np.random.randint(-10, 10, size=len(sampleRng)), sampleRng).cumsum()\n",
    "\n",
    "sampleTs.head()\n",
    "#This creates a sample time series for plotting."
   ]
  },
  {
   "cell_type": "code",
   "execution_count": 53,
   "metadata": {},
   "outputs": [
    {
     "data": {
      "text/plain": [
       "<matplotlib.axes._subplots.AxesSubplot at 0x2598a08fac8>"
      ]
     },
     "execution_count": 53,
     "metadata": {},
     "output_type": "execute_result"
    },
    {
     "data": {
      "image/png": "[encoded data removed]",
      "text/plain": [
       "<Figure size 432x288 with 1 Axes>"
      ]
     },
     "metadata": {
      "needs_background": "light"
     },
     "output_type": "display_data"
    }
   ],
   "source": [
    "sampleTs.plot(c='g', title='Sample time series')\n",
    "#n the above code, the time series is passed to the plot function. \n",
    "#The necessary aesthetics like color, gridline, and scale can also be passed."
   ]
  },
  {
   "cell_type": "markdown",
   "metadata": {},
   "source": [
    "Aggregation Plot 1"
   ]
  },
  {
   "cell_type": "code",
   "execution_count": 54,
   "metadata": {},
   "outputs": [
    {
     "data": {
      "text/plain": [
       "2017-12-31    AxesSubplot(0.125,0.125;0.775x0.755)\n",
       "2019-12-31    AxesSubplot(0.125,0.125;0.775x0.755)\n",
       "2021-12-31    AxesSubplot(0.125,0.125;0.775x0.755)\n",
       "2023-12-31    AxesSubplot(0.125,0.125;0.775x0.755)\n",
       "2025-12-31    AxesSubplot(0.125,0.125;0.775x0.755)\n",
       "2027-12-31    AxesSubplot(0.125,0.125;0.775x0.755)\n",
       "Freq: 2A-DEC, dtype: object"
      ]
     },
     "execution_count": 54,
     "metadata": {},
     "output_type": "execute_result"
    },
    {
     "data": {
      "image/png": "[encoded data removed]",
      "text/plain": [
       "<Figure size 432x288 with 1 Axes>"
      ]
     },
     "metadata": {
      "needs_background": "light"
     },
     "output_type": "display_data"
    }
   ],
   "source": [
    "sampleTs.resample('2A').plot(c='b', ls='--')\n",
    "\n",
    "#In the above code, we have done a resampling of the time series annually and then plotted the values."
   ]
  },
  {
   "cell_type": "markdown",
   "metadata": {},
   "source": [
    "Aggregation Plot 2"
   ]
  },
  {
   "cell_type": "code",
   "execution_count": 55,
   "metadata": {},
   "outputs": [
    {
     "data": {
      "text/plain": [
       "2017-12-31    AxesSubplot(0.125,0.125;0.775x0.755)\n",
       "2022-12-31    AxesSubplot(0.125,0.125;0.775x0.755)\n",
       "2027-12-31    AxesSubplot(0.125,0.125;0.775x0.755)\n",
       "dtype: object"
      ]
     },
     "execution_count": 55,
     "metadata": {},
     "output_type": "execute_result"
    },
    {
     "data": {
      "image/png": "[encoded data removed]",
      "text/plain": [
       "<Figure size 432x288 with 1 Axes>"
      ]
     },
     "metadata": {
      "needs_background": "light"
     },
     "output_type": "display_data"
    }
   ],
   "source": [
    "sampleTs.resample('5A').plot(c='g', ls='-.')\n",
    "\n",
    "#In the above code, we have resampled further and then plot the values."
   ]
  },
  {
   "cell_type": "markdown",
   "metadata": {},
   "source": [
    ">> **Lag Plot**\n",
    "\n",
    "The Lag Plot is a very important and useful visualization for Time Series Data.\n",
    "\n",
    "Time Series is a Univariate Data.\n",
    "\n",
    "In the lag plot, you plotted the actual data against the data with a time lag. This helps in determining how the current data is predicting the future data."
   ]
  },
  {
   "cell_type": "code",
   "execution_count": 57,
   "metadata": {},
   "outputs": [
    {
     "data": {
      "text/plain": [
       "<matplotlib.axes._subplots.AxesSubplot at 0x2598b6319e8>"
      ]
     },
     "execution_count": 57,
     "metadata": {},
     "output_type": "execute_result"
    },
    {
     "data": {
      "image/png": "[encoded data removed]",
      "text/plain": [
       "<Figure size 432x288 with 1 Axes>"
      ]
     },
     "metadata": {
      "needs_background": "light"
     },
     "output_type": "display_data"
    }
   ],
   "source": [
    "#The below code explains how to create a sample lag plot in Python\n",
    "from pandas.plotting import lag_plot\n",
    "\n",
    "lag_plot(sampleTs)"
   ]
  },
  {
   "cell_type": "markdown",
   "metadata": {},
   "source": [
    ">> **Auto Correlation Plot**\n",
    "\n",
    "In the lag plot, we have just seen how the data is scattered when plotted against one-time lag.\n",
    "\n",
    "Autocorrelation plot goes one step further.\n",
    "\n",
    "Auto Correlation refers to correlating the data with itself. Here we are correlating the data with a one-time lag.\n",
    "\n",
    "The plot gives a more accurate picture of how the data point is correlated among themselves."
   ]
  },
  {
   "cell_type": "code",
   "execution_count": 59,
   "metadata": {},
   "outputs": [
    {
     "data": {
      "text/plain": [
       "<matplotlib.axes._subplots.AxesSubplot at 0x2598b68ccc0>"
      ]
     },
     "execution_count": 59,
     "metadata": {},
     "output_type": "execute_result"
    },
    {
     "data": {
      "image/png": "[encoded data removed]",
      "text/plain": [
       "<Figure size 432x288 with 1 Axes>"
      ]
     },
     "metadata": {
      "needs_background": "light"
     },
     "output_type": "display_data"
    }
   ],
   "source": [
    "from pandas.plotting import autocorrelation_plot\n",
    "\n",
    "autocorrelation_plot(sampleTs)\n",
    "\n",
    "#When the autocorrelation plot shows an exponential behavior, the time series is stationary."
   ]
  },
  {
   "cell_type": "markdown",
   "metadata": {},
   "source": [
    "# Stationarity"
   ]
  },
  {
   "cell_type": "markdown",
   "metadata": {},
   "source": [
    "Stationarity is a very significant property in Time Series Analysis. In Time series, data is collected at different time intervals. The data might behave in a deterministic or stochastic nature.\n",
    "\n",
    "Models can be applied only when your data is deterministic. If the nature of the data is stochastic then the model results will not be interpretable. Hence we have to check this property before applying the model."
   ]
  },
  {
   "cell_type": "code",
   "execution_count": 60,
   "metadata": {},
   "outputs": [],
   "source": [
    "#Let us create a sample random time series.\n",
    "from statsmodels.tsa.stattools import adfuller\n",
    "\n",
    "sampleRng = pd.date_range(start='2017', periods=120, freq='MS')\n",
    "\n",
    "sampleTs = pd.Series(np.random.randint(-10, 10, size=len(sampleRng)), sampleRng).cumsum()\n"
   ]
  },
  {
   "cell_type": "markdown",
   "metadata": {},
   "source": [
    "Applying ADF Test"
   ]
  },
  {
   "cell_type": "code",
   "execution_count": 61,
   "metadata": {},
   "outputs": [],
   "source": [
    "tsResult = adfuller(sampleTs)"
   ]
  },
  {
   "cell_type": "code",
   "execution_count": 64,
   "metadata": {},
   "outputs": [
    {
     "data": {
      "text/plain": [
       "(-0.8253785832175031,\n",
       " 0.8115534084424083,\n",
       " 0,\n",
       " 119,\n",
       " {'1%': -3.4865346059036564,\n",
       "  '5%': -2.8861509858476264,\n",
       "  '10%': -2.579896092790057},\n",
       " 664.0942674267325)"
      ]
     },
     "execution_count": 64,
     "metadata": {},
     "output_type": "execute_result"
    }
   ],
   "source": [
    "tsResult"
   ]
  },
  {
   "cell_type": "code",
   "execution_count": 65,
   "metadata": {},
   "outputs": [
    {
     "name": "stdout",
     "output_type": "stream",
     "text": [
      "ADF Statistic: -0.825379\n",
      "p-value: 0.811553\n",
      "\t1%: -3.487\n",
      "\t5%: -2.886\n",
      "\t10%: -2.580\n"
     ]
    }
   ],
   "source": [
    "print('ADF Statistic: %f' % tsResult[0])\n",
    "\n",
    "print('p-value: %f' % tsResult[1])\n",
    "\n",
    "for key, value in tsResult[4].items():\n",
    "\n",
    "    print('\\t%s: %.3f' % (key, value))"
   ]
  },
  {
   "cell_type": "markdown",
   "metadata": {},
   "source": [
    "**Interpreting ADF Test Results**\n",
    "\n",
    "The ADF Statistic value is -0.825379. It is negative.\n",
    "\n",
    "The p-value: 0.811553 and is greater than 0.05 so we accept the null hypothesis, which means the data is non-stationary."
   ]
  },
  {
   "cell_type": "code",
   "execution_count": null,
   "metadata": {},
   "outputs": [],
   "source": []
  }
 ],
 "metadata": {
  "kernelspec": {
   "display_name": "Python 3",
   "language": "python",
   "name": "python3"
  },
  "language_info": {
   "codemirror_mode": {
    "name": "ipython",
    "version": 3
   },
   "file_extension": ".py",
   "mimetype": "text/x-python",
   "name": "python",
   "nbconvert_exporter": "python",
   "pygments_lexer": "ipython3",
   "version": "3.7.0"
  }
 },
 "nbformat": 4,
 "nbformat_minor": 2
}
