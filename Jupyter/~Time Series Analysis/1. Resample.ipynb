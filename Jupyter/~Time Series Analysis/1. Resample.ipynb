{
 "cells": [
  {
   "cell_type": "markdown",
   "metadata": {},
   "source": [
    "## Creating Samples"
   ]
  },
  {
   "cell_type": "code",
   "execution_count": 23,
   "metadata": {},
   "outputs": [],
   "source": [
    "import pandas as pd"
   ]
  },
  {
   "cell_type": "code",
   "execution_count": 24,
   "metadata": {},
   "outputs": [],
   "source": [
    "import numpy as np"
   ]
  },
  {
   "cell_type": "code",
   "execution_count": 25,
   "metadata": {},
   "outputs": [],
   "source": [
    "# In Python, when you load a time series data, you can specify the index to be the date column.\n",
    "\n",
    "date = [pd.Timestamp(\"2017-01-01\"),\n",
    "\n",
    "        pd.Timestamp(\"2017-01-02\"),\n",
    "\n",
    "        pd.Timestamp(\"2017-01-03\")]\n",
    "\n",
    "timeSeries = pd.Series(np.random.randn(len(date)), index=date)"
   ]
  },
  {
   "cell_type": "code",
   "execution_count": 26,
   "metadata": {},
   "outputs": [
    {
     "data": {
      "text/plain": [
       "2017-01-01    1.461519\n",
       "2017-01-02   -0.625641\n",
       "2017-01-03   -0.054669\n",
       "dtype: float64"
      ]
     },
     "execution_count": 26,
     "metadata": {},
     "output_type": "execute_result"
    }
   ],
   "source": [
    "timeSeries"
   ]
  },
  {
   "cell_type": "code",
   "execution_count": 27,
   "metadata": {},
   "outputs": [
    {
     "data": {
      "text/plain": [
       "DatetimeIndex(['2017-01-01', '2017-01-02', '2017-01-03'], dtype='datetime64[ns]', freq=None)"
      ]
     },
     "execution_count": 27,
     "metadata": {},
     "output_type": "execute_result"
    }
   ],
   "source": [
    "# In the first step, we create date values. In the second step, we create random time series with date as index.\n",
    "\n",
    "timeSeries.index \n",
    "\n",
    "pd.DatetimeIndex(['2017-01-01', '2017-01-02', '2017-01-03'], dtype='datetime64[ns]', freq=None)"
   ]
  },
  {
   "cell_type": "code",
   "execution_count": 28,
   "metadata": {},
   "outputs": [
    {
     "data": {
      "text/plain": [
       "1.4615191320090732"
      ]
     },
     "execution_count": 28,
     "metadata": {},
     "output_type": "execute_result"
    }
   ],
   "source": [
    "# Retrieving the Values\n",
    "# If you want to pull out the value at a given timestamp, you can easily reference the date to pull the value, since it is a date time index.\n",
    "\n",
    "# If you want to get the value for Jan 1, all you have to code is,\n",
    "\n",
    "timeSeries['2017-01-01']"
   ]
  },
  {
   "cell_type": "code",
   "execution_count": 29,
   "metadata": {},
   "outputs": [
    {
     "data": {
      "text/plain": [
       "2017-01-01    1.461519\n",
       "2017-01-02   -0.625641\n",
       "dtype: float64"
      ]
     },
     "execution_count": 29,
     "metadata": {},
     "output_type": "execute_result"
    }
   ],
   "source": [
    "# Retrieving a Range of Dates\n",
    "# Once your time series is indexed by date, you can retrieve a single date as well as a date range.\n",
    "# You pass the start and the end date to retrieve all values in the given range.\n",
    "\n",
    "timeSeries['2017-01-01':'2017-01-02']"
   ]
  },
  {
   "cell_type": "markdown",
   "metadata": {},
   "source": [
    "Date Range Generate Dates\n",
    "Say you know the start date and the end date, and you would want to generate a set of dates in that range.\n",
    "\n",
    "You can do that using Python in the following way"
   ]
  },
  {
   "cell_type": "code",
   "execution_count": 30,
   "metadata": {},
   "outputs": [
    {
     "data": {
      "text/plain": [
       "DatetimeIndex(['2017-01-02', '2017-01-03', '2017-01-04', '2017-01-05',\n",
       "               '2017-01-06', '2017-01-09', '2017-01-10', '2017-01-11',\n",
       "               '2017-01-12', '2017-01-13', '2017-01-16', '2017-01-17',\n",
       "               '2017-01-18', '2017-01-19'],\n",
       "              dtype='datetime64[ns]', freq='B')"
      ]
     },
     "execution_count": 30,
     "metadata": {},
     "output_type": "execute_result"
    }
   ],
   "source": [
    "pd.date_range(start='2017-01-01',end='2017-01-19',freq='B')\n",
    "#freq = 'B' signifies business day"
   ]
  },
  {
   "cell_type": "markdown",
   "metadata": {},
   "source": [
    ">> **Generating Dates in Time Intervals**\n",
    "\n",
    "In the previous example, you saw how to generate dates in a range for business days.\n",
    "\n",
    "You can go a bit granular and generate based on time steps (Hours, Minutes and Seconds).\n",
    "\n",
    "Say you want to generate dates starting from Jan 1, 2017, 00:00:00 hrs every hour/minute or second you will do that in the following way In the following examples, the parameter freq= controls how the different date values are generated."
   ]
  },
  {
   "cell_type": "code",
   "execution_count": 31,
   "metadata": {},
   "outputs": [
    {
     "data": {
      "text/plain": [
       "DatetimeIndex(['2017-01-01 00:00:00', '2017-01-01 01:00:00',\n",
       "               '2017-01-01 02:00:00'],\n",
       "              dtype='datetime64[ns]', freq='H')"
      ]
     },
     "execution_count": 31,
     "metadata": {},
     "output_type": "execute_result"
    }
   ],
   "source": [
    "pd.date_range(start=\"2017-01-01\", periods=3, freq='H')"
   ]
  },
  {
   "cell_type": "code",
   "execution_count": 32,
   "metadata": {},
   "outputs": [
    {
     "data": {
      "text/plain": [
       "DatetimeIndex(['2017-01-01 00:00:00', '2017-01-01 00:01:00',\n",
       "               '2017-01-01 00:02:00'],\n",
       "              dtype='datetime64[ns]', freq='T')"
      ]
     },
     "execution_count": 32,
     "metadata": {},
     "output_type": "execute_result"
    }
   ],
   "source": [
    "pd.date_range(start=\"2017-01-01\", periods=3, freq='T')"
   ]
  },
  {
   "cell_type": "code",
   "execution_count": 33,
   "metadata": {},
   "outputs": [
    {
     "data": {
      "text/plain": [
       "DatetimeIndex(['2017-01-01 00:00:00', '2017-01-01 00:00:01',\n",
       "               '2017-01-01 00:00:02'],\n",
       "              dtype='datetime64[ns]', freq='S')"
      ]
     },
     "execution_count": 33,
     "metadata": {},
     "output_type": "execute_result"
    }
   ],
   "source": [
    "pd.date_range(start=\"2017-01-01\", periods=3, freq='S')"
   ]
  },
  {
   "cell_type": "markdown",
   "metadata": {},
   "source": [
    ">> **Varying Frequencies**\n",
    "\n",
    "So far, you have seen how to generate date time indices at specific frequencies\n",
    "\n",
    "Let's say you want to generate date-time values that are 1 day, 1 hour, 1 minute and 10 seconds apart.\n",
    "\n",
    "How will you do that using Python?\n",
    "\n",
    "See the code below."
   ]
  },
  {
   "cell_type": "code",
   "execution_count": 34,
   "metadata": {},
   "outputs": [
    {
     "data": {
      "text/plain": [
       "DatetimeIndex(['2017-01-01 00:00:00', '2017-01-02 01:01:10',\n",
       "               '2017-01-03 02:02:20', '2017-01-04 03:03:30',\n",
       "               '2017-01-05 04:04:40'],\n",
       "              dtype='datetime64[ns]', freq='90070S')"
      ]
     },
     "execution_count": 34,
     "metadata": {},
     "output_type": "execute_result"
    }
   ],
   "source": [
    "pd.date_range(start=\"2017-01-01\", periods=5, freq='1D1h1min10s')"
   ]
  },
  {
   "cell_type": "markdown",
   "metadata": {},
   "source": [
    ">> **Generating Custom Date Ranges**\n",
    "\n",
    "Instead of specifying a date, you can also specify a day from when you want to generate the date time.\n",
    "\n",
    "For example, you want to generate date time stamp every Friday for five instances from a given start date."
   ]
  },
  {
   "cell_type": "code",
   "execution_count": 35,
   "metadata": {},
   "outputs": [
    {
     "data": {
      "text/plain": [
       "DatetimeIndex(['2017-01-06', '2017-01-13', '2017-01-20', '2017-01-27',\n",
       "               '2017-02-03'],\n",
       "              dtype='datetime64[ns]', freq='W-FRI')"
      ]
     },
     "execution_count": 35,
     "metadata": {},
     "output_type": "execute_result"
    }
   ],
   "source": [
    "pd.date_range(start=\"2017-01-01\", periods=5, freq='W-FRI')"
   ]
  },
  {
   "cell_type": "markdown",
   "metadata": {},
   "source": [
    ">> **Combining Indices**\n",
    "\n",
    "You have generated separate indices with different dates and would want to combine them . How would you do that ?\n",
    "The code below explains the steps."
   ]
  },
  {
   "cell_type": "code",
   "execution_count": 36,
   "metadata": {},
   "outputs": [
    {
     "data": {
      "text/plain": [
       "DatetimeIndex(['2017-01-02', '2017-02-28', '2018-01-01', '2018-02-28',\n",
       "               '2019-01-01', '2019-02-28', '2020-01-01', '2020-02-29',\n",
       "               '2021-01-01', '2021-02-28', '2022-01-03', '2022-02-28',\n",
       "               '2023-01-02', '2023-02-28', '2024-01-01', '2024-02-29',\n",
       "               '2025-01-01', '2025-02-28', '2026-01-01', '2026-02-28'],\n",
       "              dtype='datetime64[ns]', freq=None)"
      ]
     },
     "execution_count": 36,
     "metadata": {},
     "output_type": "execute_result"
    }
   ],
   "source": [
    "#First index generated 10 first business days in January starting 2017\n",
    "# Second index genetated 10 last buisiness days in February starting 2017.\n",
    "# The union() function helped in combining one index to another\n",
    "\n",
    "a = pd.date_range(start=\"2017-01-01\", periods=10, freq='BAS-JAN')\n",
    "b = pd.date_range(start=\"2017-01-01\", periods=10, freq='A-FEB')\n",
    "\n",
    "a.union(b)"
   ]
  },
  {
   "cell_type": "markdown",
   "metadata": {},
   "source": [
    "## Resampling"
   ]
  },
  {
   "cell_type": "markdown",
   "metadata": {},
   "source": [
    ">> **Downsample Scenario**\n",
    "\n",
    "Let us take an example where customers are visiting a supermarket.\n",
    "\n",
    "You are interested in studying the customer incidence pattern at different time steps.\n",
    "\n",
    "You can simulate that scenarios in the following way using Python."
   ]
  },
  {
   "cell_type": "code",
   "execution_count": 37,
   "metadata": {},
   "outputs": [
    {
     "data": {
      "text/plain": [
       "2017-09-18 08:00:00    13\n",
       "2017-09-18 08:01:00    38\n",
       "2017-09-18 08:02:00    43\n",
       "2017-09-18 08:03:00    93\n",
       "2017-09-18 08:04:00     8\n",
       "2017-09-18 08:05:00    26\n",
       "2017-09-18 08:06:00    14\n",
       "2017-09-18 08:07:00    80\n",
       "2017-09-18 08:08:00    68\n",
       "2017-09-18 08:09:00     1\n",
       "Freq: T, dtype: int32"
      ]
     },
     "execution_count": 37,
     "metadata": {},
     "output_type": "execute_result"
    }
   ],
   "source": [
    "customerArrival = pd.date_range('18/09/2017 8:00', periods=600, freq='T')\n",
    "\n",
    "custArrivalTs = pd.Series(np.random.randint(0, 100, len(customerArrival)), index=customerArrival)\n",
    "custArrivalTs.head(10)"
   ]
  },
  {
   "cell_type": "code",
   "execution_count": 38,
   "metadata": {},
   "outputs": [],
   "source": [
    "#The data says that 8 customers have arrived at 8:00 and 37 customers have come at 8:05 . This is just a hypothetical number."
   ]
  },
  {
   "cell_type": "markdown",
   "metadata": {},
   "source": [
    ">> **Downsample Data**\n",
    "\n",
    "In the previous card, you saw how to create a random customer incidence scenario for every minute.\n",
    "You are not interested in customer incidence every minute but you would want to get the mean customer incidence every 10 mins.\n",
    "\n",
    "You will resample (downsample) your time series in the following way."
   ]
  },
  {
   "cell_type": "code",
   "execution_count": 57,
   "metadata": {},
   "outputs": [
    {
     "data": {
      "text/plain": [
       "2017-09-18 08:00:00    38.4\n",
       "2017-09-18 08:10:00    40.1\n",
       "2017-09-18 08:20:00    43.7\n",
       "2017-09-18 08:30:00    60.5\n",
       "2017-09-18 08:40:00    54.3\n",
       "Freq: 10T, dtype: float64"
      ]
     },
     "execution_count": 57,
     "metadata": {},
     "output_type": "execute_result"
    }
   ],
   "source": [
    "custArrivalTs.resample('10min').mean().head()"
   ]
  },
  {
   "cell_type": "code",
   "execution_count": 40,
   "metadata": {},
   "outputs": [],
   "source": [
    "custArrival10 = custArrivalTs.resample('10min')"
   ]
  },
  {
   "cell_type": "code",
   "execution_count": 58,
   "metadata": {},
   "outputs": [
    {
     "data": {
      "text/plain": [
       "2017-09-18 08:00:00    13\n",
       "2017-09-18 08:10:00    22\n",
       "2017-09-18 08:20:00    64\n",
       "2017-09-18 08:30:00    20\n",
       "2017-09-18 08:40:00    16\n",
       "Freq: 10T, dtype: int32"
      ]
     },
     "execution_count": 58,
     "metadata": {},
     "output_type": "execute_result"
    }
   ],
   "source": [
    "custArrivalTs.resample('10min').interpolate(method='linear').head()"
   ]
  },
  {
   "cell_type": "markdown",
   "metadata": {},
   "source": [
    ">> **Custom Aggregation**\n",
    "\n",
    "If you do not want the aggregation using the mean, you can specify your custom function.\n",
    "See the below code to understand that process."
   ]
  },
  {
   "cell_type": "code",
   "execution_count": 59,
   "metadata": {},
   "outputs": [
    {
     "data": {
      "text/plain": [
       "2017-09-18 08:00:00    384\n",
       "2017-09-18 08:10:00    401\n",
       "2017-09-18 08:20:00    437\n",
       "2017-09-18 08:30:00    605\n",
       "2017-09-18 08:40:00    543\n",
       "Freq: 10T, dtype: int32"
      ]
     },
     "execution_count": 59,
     "metadata": {},
     "output_type": "execute_result"
    }
   ],
   "source": [
    "custArrivalTs.resample('10min').sum().head()"
   ]
  },
  {
   "cell_type": "markdown",
   "metadata": {},
   "source": [
    ">> **Other Custom Aggregation Options**\n",
    "\n",
    "You have seen how to pass custom aggregation functions to downsample a time series data.\n",
    "In this example, you will notice how to get the maximum incidence in a given time interval."
   ]
  },
  {
   "cell_type": "code",
   "execution_count": 44,
   "metadata": {},
   "outputs": [
    {
     "data": {
      "text/plain": [
       "2017-09-18 08:00:00    96\n",
       "2017-09-18 09:00:00    99\n",
       "2017-09-18 10:00:00    99\n",
       "2017-09-18 11:00:00    99\n",
       "2017-09-18 12:00:00    99\n",
       "Freq: H, dtype: int32"
      ]
     },
     "execution_count": 44,
     "metadata": {},
     "output_type": "execute_result"
    }
   ],
   "source": [
    "custArrivalTs.resample('1h').max().head()"
   ]
  },
  {
   "cell_type": "code",
   "execution_count": 45,
   "metadata": {},
   "outputs": [],
   "source": [
    "#The above output is the maximum incidence at a given hour."
   ]
  },
  {
   "cell_type": "markdown",
   "metadata": {},
   "source": [
    ">> **Using Lambda Function in Custom Aggregation**\n",
    "\n",
    "When you perform down sampling and you want to write your own custom function, you can accomplish that in the following manner."
   ]
  },
  {
   "cell_type": "code",
   "execution_count": 65,
   "metadata": {},
   "outputs": [
    {
     "data": {
      "text/plain": [
       "2017-09-18 08:00:00    55\n",
       "2017-09-18 09:00:00    47\n",
       "2017-09-18 10:00:00    64\n",
       "2017-09-18 11:00:00    68\n",
       "2017-09-18 12:00:00     1\n",
       "Freq: H, dtype: int32"
      ]
     },
     "execution_count": 65,
     "metadata": {},
     "output_type": "execute_result"
    }
   ],
   "source": [
    "import random\n",
    "\n",
    "custArrivalTs.resample('1h').apply(lambda m: random.choice(m)).head()"
   ]
  },
  {
   "cell_type": "markdown",
   "metadata": {},
   "source": [
    ">> **Open High Low Close**\n",
    "\n",
    "Let's say you are analyzing customer incidence data. You would wish to see the opening, closing, high and low incidence values in a given interval of time.\n",
    "How will you do that?\n",
    "\n",
    "See the code below."
   ]
  },
  {
   "cell_type": "code",
   "execution_count": 47,
   "metadata": {},
   "outputs": [
    {
     "data": {
      "text/html": [
       "<div>\n",
       "<style scoped>\n",
       "    .dataframe tbody tr th:only-of-type {\n",
       "        vertical-align: middle;\n",
       "    }\n",
       "\n",
       "    .dataframe tbody tr th {\n",
       "        vertical-align: top;\n",
       "    }\n",
       "\n",
       "    .dataframe thead th {\n",
       "        text-align: right;\n",
       "    }\n",
       "</style>\n",
       "<table border=\"1\" class=\"dataframe\">\n",
       "  <thead>\n",
       "    <tr style=\"text-align: right;\">\n",
       "      <th></th>\n",
       "      <th>open</th>\n",
       "      <th>high</th>\n",
       "      <th>low</th>\n",
       "      <th>close</th>\n",
       "    </tr>\n",
       "  </thead>\n",
       "  <tbody>\n",
       "    <tr>\n",
       "      <th>2017-09-18 08:00:00</th>\n",
       "      <td>13</td>\n",
       "      <td>96</td>\n",
       "      <td>0</td>\n",
       "      <td>8</td>\n",
       "    </tr>\n",
       "    <tr>\n",
       "      <th>2017-09-18 09:00:00</th>\n",
       "      <td>20</td>\n",
       "      <td>99</td>\n",
       "      <td>0</td>\n",
       "      <td>75</td>\n",
       "    </tr>\n",
       "    <tr>\n",
       "      <th>2017-09-18 10:00:00</th>\n",
       "      <td>35</td>\n",
       "      <td>99</td>\n",
       "      <td>4</td>\n",
       "      <td>60</td>\n",
       "    </tr>\n",
       "    <tr>\n",
       "      <th>2017-09-18 11:00:00</th>\n",
       "      <td>30</td>\n",
       "      <td>99</td>\n",
       "      <td>5</td>\n",
       "      <td>72</td>\n",
       "    </tr>\n",
       "    <tr>\n",
       "      <th>2017-09-18 12:00:00</th>\n",
       "      <td>74</td>\n",
       "      <td>99</td>\n",
       "      <td>1</td>\n",
       "      <td>42</td>\n",
       "    </tr>\n",
       "  </tbody>\n",
       "</table>\n",
       "</div>"
      ],
      "text/plain": [
       "                     open  high  low  close\n",
       "2017-09-18 08:00:00    13    96    0      8\n",
       "2017-09-18 09:00:00    20    99    0     75\n",
       "2017-09-18 10:00:00    35    99    4     60\n",
       "2017-09-18 11:00:00    30    99    5     72\n",
       "2017-09-18 12:00:00    74    99    1     42"
      ]
     },
     "execution_count": 47,
     "metadata": {},
     "output_type": "execute_result"
    }
   ],
   "source": [
    "custArrivalTs.resample('1h').ohlc().head()"
   ]
  },
  {
   "cell_type": "markdown",
   "metadata": {},
   "source": [
    "## Upsampling"
   ]
  },
  {
   "cell_type": "markdown",
   "metadata": {},
   "source": [
    "In upsampling, the frequency of the data points is more than that of the original data captured.\n",
    "\n",
    "For example, you are creating ten time stamps with random values every one hour on a given date."
   ]
  },
  {
   "cell_type": "code",
   "execution_count": 48,
   "metadata": {},
   "outputs": [],
   "source": [
    "sampleRng = pd.date_range('9/18/2017 8:00', periods=10, freq='H')\n",
    "\n",
    "sampleTs = pd.Series(np.random.randint(0, 100, len(sampleRng)), index=sampleRng)"
   ]
  },
  {
   "cell_type": "code",
   "execution_count": 49,
   "metadata": {},
   "outputs": [
    {
     "data": {
      "text/plain": [
       "2017-09-18 08:00:00    27\n",
       "2017-09-18 09:00:00     9\n",
       "2017-09-18 10:00:00    23\n",
       "2017-09-18 11:00:00    95\n",
       "2017-09-18 12:00:00    73\n",
       "2017-09-18 13:00:00    46\n",
       "2017-09-18 14:00:00     9\n",
       "2017-09-18 15:00:00    59\n",
       "2017-09-18 16:00:00    82\n",
       "2017-09-18 17:00:00    52\n",
       "Freq: H, dtype: int32"
      ]
     },
     "execution_count": 49,
     "metadata": {},
     "output_type": "execute_result"
    }
   ],
   "source": [
    "sampleTs"
   ]
  },
  {
   "cell_type": "markdown",
   "metadata": {},
   "source": [
    ">> **Upsampling Example**\n",
    "\n",
    "In the previous card, you have seen how to create a sample time series every 1 hour.\n",
    "\n",
    "If you want to study your data every 15 mins, you have to perform upsampling."
   ]
  },
  {
   "cell_type": "code",
   "execution_count": 67,
   "metadata": {},
   "outputs": [
    {
     "data": {
      "text/plain": [
       "2017-09-18 08:00:00    27.0\n",
       "2017-09-18 08:15:00     NaN\n",
       "2017-09-18 08:30:00     NaN\n",
       "2017-09-18 08:45:00     NaN\n",
       "2017-09-18 09:00:00     9.0\n",
       "Freq: 15T, dtype: float64"
      ]
     },
     "execution_count": 67,
     "metadata": {},
     "output_type": "execute_result"
    }
   ],
   "source": [
    "sampleTs.resample('15min').mean().head()"
   ]
  },
  {
   "cell_type": "markdown",
   "metadata": {},
   "source": [
    "Forward Filling\n",
    "The Forward and Backward filling can be used to fill missing values.\n",
    "\n",
    "In forward filling, you have to fill the missing values based on the forward values."
   ]
  },
  {
   "cell_type": "code",
   "execution_count": 68,
   "metadata": {},
   "outputs": [
    {
     "data": {
      "text/plain": [
       "2017-09-18 08:00:00    27\n",
       "2017-09-18 08:15:00    27\n",
       "2017-09-18 08:30:00    27\n",
       "2017-09-18 08:45:00    27\n",
       "2017-09-18 09:00:00     9\n",
       "Freq: 15T, dtype: int32"
      ]
     },
     "execution_count": 68,
     "metadata": {},
     "output_type": "execute_result"
    }
   ],
   "source": [
    "sampleTs.resample('15min').ffill().head()"
   ]
  },
  {
   "cell_type": "markdown",
   "metadata": {},
   "source": [
    "Backward Filling\n",
    "In backward filling, the missing values are filled from backwards."
   ]
  },
  {
   "cell_type": "code",
   "execution_count": 69,
   "metadata": {},
   "outputs": [
    {
     "data": {
      "text/plain": [
       "2017-09-18 08:00:00    27\n",
       "2017-09-18 08:15:00     9\n",
       "2017-09-18 08:30:00     9\n",
       "2017-09-18 08:45:00     9\n",
       "2017-09-18 09:00:00     9\n",
       "Freq: 15T, dtype: int32"
      ]
     },
     "execution_count": 69,
     "metadata": {},
     "output_type": "execute_result"
    }
   ],
   "source": [
    "sampleTs.resample('15min').bfill().head()"
   ]
  },
  {
   "cell_type": "markdown",
   "metadata": {},
   "source": [
    "Fill with Limitation\n",
    "When you fill the missing values, you can also limit the number of fills.\n",
    "\n"
   ]
  },
  {
   "cell_type": "code",
   "execution_count": 70,
   "metadata": {},
   "outputs": [
    {
     "data": {
      "text/plain": [
       "2017-09-18 08:00:00    27.0\n",
       "2017-09-18 08:15:00    27.0\n",
       "2017-09-18 08:30:00    27.0\n",
       "2017-09-18 08:45:00     NaN\n",
       "2017-09-18 09:00:00     9.0\n",
       "Freq: 15T, dtype: float64"
      ]
     },
     "execution_count": 70,
     "metadata": {},
     "output_type": "execute_result"
    }
   ],
   "source": [
    "sampleTs.resample('15min').ffill(limit=2).head()"
   ]
  },
  {
   "cell_type": "markdown",
   "metadata": {},
   "source": [
    ">> **Interpolation Example**\n",
    "\n",
    "In the below example, you will see how to use interpolation to fix the missing values."
   ]
  },
  {
   "cell_type": "code",
   "execution_count": 54,
   "metadata": {},
   "outputs": [
    {
     "name": "stdout",
     "output_type": "stream",
     "text": [
      "2017-09-18 08:00:00    27\n",
      "2017-09-18 09:00:00     9\n",
      "2017-09-18 10:00:00    23\n",
      "2017-09-18 11:00:00    95\n",
      "2017-09-18 12:00:00    73\n",
      "2017-09-18 13:00:00    46\n",
      "2017-09-18 14:00:00     9\n",
      "2017-09-18 15:00:00    59\n",
      "2017-09-18 16:00:00    82\n",
      "2017-09-18 17:00:00    52\n",
      "Freq: H, dtype: int32\n"
     ]
    },
    {
     "data": {
      "text/plain": [
       "DatetimeIndexResampler [freq=<15 * Minutes>, axis=0, closed=left, label=left, convention=start, base=0]"
      ]
     },
     "execution_count": 54,
     "metadata": {},
     "output_type": "execute_result"
    }
   ],
   "source": [
    "print(sampleTs)\n",
    "\n",
    "interEx = sampleTs.resample('15min')\n",
    "\n",
    "interEx"
   ]
  },
  {
   "cell_type": "code",
   "execution_count": 55,
   "metadata": {},
   "outputs": [
    {
     "data": {
      "text/plain": [
       "2017-09-18 08:00:00    27.0\n",
       "2017-09-18 08:15:00    22.5\n",
       "2017-09-18 08:30:00    18.0\n",
       "2017-09-18 08:45:00    13.5\n",
       "2017-09-18 09:00:00     9.0\n",
       "2017-09-18 09:15:00    12.5\n",
       "2017-09-18 09:30:00    16.0\n",
       "2017-09-18 09:45:00    19.5\n",
       "2017-09-18 10:00:00    23.0\n",
       "2017-09-18 10:15:00    41.0\n",
       "Freq: 15T, dtype: float64"
      ]
     },
     "execution_count": 55,
     "metadata": {},
     "output_type": "execute_result"
    }
   ],
   "source": [
    "interEx.interpolate().head(10)"
   ]
  },
  {
   "cell_type": "code",
   "execution_count": null,
   "metadata": {},
   "outputs": [],
   "source": []
  }
 ],
 "metadata": {
  "kernelspec": {
   "display_name": "Python 3",
   "language": "python",
   "name": "python3"
  },
  "language_info": {
   "codemirror_mode": {
    "name": "ipython",
    "version": 3
   },
   "file_extension": ".py",
   "mimetype": "text/x-python",
   "name": "python",
   "nbconvert_exporter": "python",
   "pygments_lexer": "ipython3",
   "version": "3.7.0"
  }
 },
 "nbformat": 4,
 "nbformat_minor": 2
}
