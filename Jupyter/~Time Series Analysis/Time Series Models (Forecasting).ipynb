{
 "cells": [
  {
   "cell_type": "markdown",
   "metadata": {},
   "source": [
    "## 1. Autoregression"
   ]
  },
  {
   "cell_type": "code",
   "execution_count": 2,
   "metadata": {},
   "outputs": [],
   "source": [
    "import pandas as pd\n",
    "import numpy as np"
   ]
  },
  {
   "cell_type": "code",
   "execution_count": 3,
   "metadata": {},
   "outputs": [],
   "source": [
    "sampleRng = pd.date_range(start='2017', periods=120, freq='MS')\n",
    "\n",
    "sampleTs = pd.Series(np.random.randint(-10, 10, size=len(sampleRng)), sampleRng).cumsum()"
   ]
  },
  {
   "cell_type": "code",
   "execution_count": 4,
   "metadata": {},
   "outputs": [
    {
     "data": {
      "text/plain": [
       "2017-01-01     8\n",
       "2017-02-01     8\n",
       "2017-03-01    11\n",
       "2017-04-01    12\n",
       "2017-05-01    13\n",
       "Freq: MS, dtype: int32"
      ]
     },
     "execution_count": 4,
     "metadata": {},
     "output_type": "execute_result"
    }
   ],
   "source": [
    "sampleTs.head()"
   ]
  },
  {
   "cell_type": "markdown",
   "metadata": {},
   "source": [
    "Autoregressive Integrated Moving Average (**ARIMA**)\n",
    "The parameter order = is very important in calling the right function for forecasting\n",
    "\n",
    "p: The number of lag observations included in the model, also called the lag order<br>\n",
    "d: The number of times that the raw observations are differenced, also called the degree of differencing.<br>\n",
    "q: The size of the moving average window, also called the order of moving average"
   ]
  },
  {
   "cell_type": "markdown",
   "metadata": {},
   "source": [
    "An ARIMA model can be created using the statsmodels library as follows:\n",
    "\n",
    "Define the model by calling ARIMA() and passing in the p, d, and q parameters.<br>\n",
    "The model is prepared on the training data by calling the fit() function.<br>\n",
    "Predictions can be made by calling the **predict()** function and specifying the index of the time or times to be predicted.<br>\n",
    "**forecast()** function, which performs a one-step forecast using the model."
   ]
  },
  {
   "cell_type": "code",
   "execution_count": 6,
   "metadata": {},
   "outputs": [
    {
     "name": "stderr",
     "output_type": "stream",
     "text": [
      "C:\\ProgramData\\Anaconda3\\lib\\site-packages\\scipy\\signal\\signaltools.py:1341: FutureWarning: Using a non-tuple sequence for multidimensional indexing is deprecated; use `arr[tuple(seq)]` instead of `arr[seq]`. In the future this will be interpreted as an array index, `arr[np.array(seq)]`, which will result either in an error or a different result.\n",
      "  out_full[ind] += zi\n",
      "C:\\ProgramData\\Anaconda3\\lib\\site-packages\\scipy\\signal\\signaltools.py:1344: FutureWarning: Using a non-tuple sequence for multidimensional indexing is deprecated; use `arr[tuple(seq)]` instead of `arr[seq]`. In the future this will be interpreted as an array index, `arr[np.array(seq)]`, which will result either in an error or a different result.\n",
      "  out = out_full[ind]\n",
      "C:\\ProgramData\\Anaconda3\\lib\\site-packages\\scipy\\signal\\signaltools.py:1350: FutureWarning: Using a non-tuple sequence for multidimensional indexing is deprecated; use `arr[tuple(seq)]` instead of `arr[seq]`. In the future this will be interpreted as an array index, `arr[np.array(seq)]`, which will result either in an error or a different result.\n",
      "  zf = out_full[ind]\n"
     ]
    },
    {
     "data": {
      "text/html": [
       "<table class=\"simpletable\">\n",
       "<caption>ARIMA Model Results</caption>\n",
       "<tr>\n",
       "  <th>Dep. Variable:</th>        <td>D.y</td>       <th>  No. Observations:  </th>    <td>119</td>  \n",
       "</tr>\n",
       "<tr>\n",
       "  <th>Model:</th>          <td>ARIMA(1, 1, 0)</td>  <th>  Log Likelihood     </th> <td>-382.897</td>\n",
       "</tr>\n",
       "<tr>\n",
       "  <th>Method:</th>             <td>css-mle</td>     <th>  S.D. of innovations</th>   <td>6.042</td> \n",
       "</tr>\n",
       "<tr>\n",
       "  <th>Date:</th>          <td>Mon, 20 May 2019</td> <th>  AIC                </th>  <td>771.794</td>\n",
       "</tr>\n",
       "<tr>\n",
       "  <th>Time:</th>              <td>10:47:34</td>     <th>  BIC                </th>  <td>780.132</td>\n",
       "</tr>\n",
       "<tr>\n",
       "  <th>Sample:</th>           <td>02-01-2017</td>    <th>  HQIC               </th>  <td>775.180</td>\n",
       "</tr>\n",
       "<tr>\n",
       "  <th></th>                 <td>- 12-01-2026</td>   <th>                     </th>     <td> </td>   \n",
       "</tr>\n",
       "</table>\n",
       "<table class=\"simpletable\">\n",
       "<tr>\n",
       "      <td></td>         <th>coef</th>     <th>std err</th>      <th>z</th>      <th>P>|z|</th>  <th>[0.025</th>    <th>0.975]</th>  \n",
       "</tr>\n",
       "<tr>\n",
       "  <th>const</th>     <td>   -0.6174</td> <td>    0.526</td> <td>   -1.174</td> <td> 0.243</td> <td>   -1.648</td> <td>    0.413</td>\n",
       "</tr>\n",
       "<tr>\n",
       "  <th>ar.L1.D.y</th> <td>   -0.0537</td> <td>    0.092</td> <td>   -0.585</td> <td> 0.560</td> <td>   -0.234</td> <td>    0.126</td>\n",
       "</tr>\n",
       "</table>\n",
       "<table class=\"simpletable\">\n",
       "<caption>Roots</caption>\n",
       "<tr>\n",
       "    <td></td>   <th>            Real</th>  <th>         Imaginary</th> <th>         Modulus</th>  <th>        Frequency</th>\n",
       "</tr>\n",
       "<tr>\n",
       "  <th>AR.1</th> <td>         -18.6048</td> <td>          +0.0000j</td> <td>          18.6048</td> <td>           0.5000</td>\n",
       "</tr>\n",
       "</table>"
      ],
      "text/plain": [
       "<class 'statsmodels.iolib.summary.Summary'>\n",
       "\"\"\"\n",
       "                             ARIMA Model Results                              \n",
       "==============================================================================\n",
       "Dep. Variable:                    D.y   No. Observations:                  119\n",
       "Model:                 ARIMA(1, 1, 0)   Log Likelihood                -382.897\n",
       "Method:                       css-mle   S.D. of innovations              6.042\n",
       "Date:                Mon, 20 May 2019   AIC                            771.794\n",
       "Time:                        10:47:34   BIC                            780.132\n",
       "Sample:                    02-01-2017   HQIC                           775.180\n",
       "                         - 12-01-2026                                         \n",
       "==============================================================================\n",
       "                 coef    std err          z      P>|z|      [0.025      0.975]\n",
       "------------------------------------------------------------------------------\n",
       "const         -0.6174      0.526     -1.174      0.243      -1.648       0.413\n",
       "ar.L1.D.y     -0.0537      0.092     -0.585      0.560      -0.234       0.126\n",
       "                                    Roots                                    \n",
       "=============================================================================\n",
       "                  Real          Imaginary           Modulus         Frequency\n",
       "-----------------------------------------------------------------------------\n",
       "AR.1          -18.6048           +0.0000j           18.6048            0.5000\n",
       "-----------------------------------------------------------------------------\n",
       "\"\"\""
      ]
     },
     "execution_count": 6,
     "metadata": {},
     "output_type": "execute_result"
    }
   ],
   "source": [
    "from statsmodels.tsa.arima_model import ARIMA \n",
    "\n",
    "model = ARIMA(sampleTs, order=(1, 1, 0)) \n",
    "\n",
    "predValues = model.fit()\n",
    "\n",
    "predValues.summary()"
   ]
  },
  {
   "cell_type": "code",
   "execution_count": 7,
   "metadata": {},
   "outputs": [
    {
     "data": {
      "text/plain": [
       "(array([-66.08058524]),\n",
       " array([6.0416199]),\n",
       " array([[-77.92194265, -54.23922784]]))"
      ]
     },
     "execution_count": 7,
     "metadata": {},
     "output_type": "execute_result"
    }
   ],
   "source": [
    "predValues.forecast()"
   ]
  },
  {
   "cell_type": "code",
   "execution_count": 8,
   "metadata": {},
   "outputs": [
    {
     "data": {
      "text/plain": [
       "2017-02-01   -0.617404\n",
       "2017-03-01   -0.650589\n",
       "2017-04-01   -0.811838\n",
       "2017-05-01   -0.704339\n",
       "2017-06-01   -0.704339\n",
       "2017-07-01   -0.220593\n",
       "2017-08-01   -0.650589\n",
       "2017-09-01   -0.596840\n",
       "2017-10-01   -0.650589\n",
       "2017-11-01   -1.134335\n",
       "2017-12-01   -0.220593\n",
       "2018-01-01   -0.543090\n",
       "2018-02-01   -1.080585\n",
       "2018-03-01   -0.973086\n",
       "2018-04-01   -1.080585\n",
       "2018-05-01   -0.811838\n",
       "2018-06-01   -1.134335\n",
       "2018-07-01   -0.435591\n",
       "2018-08-01   -0.274343\n",
       "2018-09-01   -0.113094\n",
       "2018-10-01   -0.435591\n",
       "2018-11-01   -1.026836\n",
       "2018-12-01   -0.166844\n",
       "2019-01-01   -0.274343\n",
       "2019-02-01   -0.166844\n",
       "2019-03-01   -0.328092\n",
       "2019-04-01   -1.134335\n",
       "2019-05-01   -1.080585\n",
       "2019-06-01   -0.274343\n",
       "2019-07-01   -0.865587\n",
       "                ...   \n",
       "2024-07-01   -0.489341\n",
       "2024-08-01   -0.328092\n",
       "2024-09-01   -0.328092\n",
       "2024-10-01   -0.543090\n",
       "2024-11-01   -0.704339\n",
       "2024-12-01   -0.811838\n",
       "2025-01-01   -0.650589\n",
       "2025-02-01   -0.113094\n",
       "2025-03-01   -1.080585\n",
       "2025-04-01   -0.220593\n",
       "2025-05-01   -0.811838\n",
       "2025-06-01   -0.919337\n",
       "2025-07-01   -0.919337\n",
       "2025-08-01   -0.758088\n",
       "2025-09-01   -0.543090\n",
       "2025-10-01   -0.381842\n",
       "2025-11-01   -0.758088\n",
       "2025-12-01   -0.758088\n",
       "2026-01-01   -0.113094\n",
       "2026-02-01   -1.026836\n",
       "2026-03-01   -0.328092\n",
       "2026-04-01   -0.811838\n",
       "2026-05-01   -0.328092\n",
       "2026-06-01   -0.435591\n",
       "2026-07-01   -0.596840\n",
       "2026-08-01   -0.596840\n",
       "2026-09-01   -1.134335\n",
       "2026-10-01   -0.489341\n",
       "2026-11-01   -0.543090\n",
       "2026-12-01   -0.113094\n",
       "Freq: MS, Length: 119, dtype: float64"
      ]
     },
     "execution_count": 8,
     "metadata": {},
     "output_type": "execute_result"
    }
   ],
   "source": [
    "predValues.predict()"
   ]
  },
  {
   "cell_type": "markdown",
   "metadata": {},
   "source": [
    "## Moving Average"
   ]
  },
  {
   "cell_type": "code",
   "execution_count": 10,
   "metadata": {},
   "outputs": [
    {
     "data": {
      "text/html": [
       "<table class=\"simpletable\">\n",
       "<caption>ARIMA Model Results</caption>\n",
       "<tr>\n",
       "  <th>Dep. Variable:</th>        <td>D.y</td>       <th>  No. Observations:  </th>    <td>119</td>  \n",
       "</tr>\n",
       "<tr>\n",
       "  <th>Model:</th>          <td>ARIMA(0, 1, 1)</td>  <th>  Log Likelihood     </th> <td>-382.895</td>\n",
       "</tr>\n",
       "<tr>\n",
       "  <th>Method:</th>             <td>css-mle</td>     <th>  S.D. of innovations</th>   <td>6.042</td> \n",
       "</tr>\n",
       "<tr>\n",
       "  <th>Date:</th>          <td>Mon, 20 May 2019</td> <th>  AIC                </th>  <td>771.790</td>\n",
       "</tr>\n",
       "<tr>\n",
       "  <th>Time:</th>              <td>11:12:44</td>     <th>  BIC                </th>  <td>780.127</td>\n",
       "</tr>\n",
       "<tr>\n",
       "  <th>Sample:</th>           <td>02-01-2017</td>    <th>  HQIC               </th>  <td>775.175</td>\n",
       "</tr>\n",
       "<tr>\n",
       "  <th></th>                 <td>- 12-01-2026</td>   <th>                     </th>     <td> </td>   \n",
       "</tr>\n",
       "</table>\n",
       "<table class=\"simpletable\">\n",
       "<tr>\n",
       "      <td></td>         <th>coef</th>     <th>std err</th>      <th>z</th>      <th>P>|z|</th>  <th>[0.025</th>    <th>0.975]</th>  \n",
       "</tr>\n",
       "<tr>\n",
       "  <th>const</th>     <td>   -0.6175</td> <td>    0.524</td> <td>   -1.179</td> <td> 0.241</td> <td>   -1.644</td> <td>    0.409</td>\n",
       "</tr>\n",
       "<tr>\n",
       "  <th>ma.L1.D.y</th> <td>   -0.0546</td> <td>    0.093</td> <td>   -0.588</td> <td> 0.558</td> <td>   -0.237</td> <td>    0.127</td>\n",
       "</tr>\n",
       "</table>\n",
       "<table class=\"simpletable\">\n",
       "<caption>Roots</caption>\n",
       "<tr>\n",
       "    <td></td>   <th>            Real</th>  <th>         Imaginary</th> <th>         Modulus</th>  <th>        Frequency</th>\n",
       "</tr>\n",
       "<tr>\n",
       "  <th>MA.1</th> <td>          18.3197</td> <td>          +0.0000j</td> <td>          18.3197</td> <td>           0.0000</td>\n",
       "</tr>\n",
       "</table>"
      ],
      "text/plain": [
       "<class 'statsmodels.iolib.summary.Summary'>\n",
       "\"\"\"\n",
       "                             ARIMA Model Results                              \n",
       "==============================================================================\n",
       "Dep. Variable:                    D.y   No. Observations:                  119\n",
       "Model:                 ARIMA(0, 1, 1)   Log Likelihood                -382.895\n",
       "Method:                       css-mle   S.D. of innovations              6.042\n",
       "Date:                Mon, 20 May 2019   AIC                            771.790\n",
       "Time:                        11:12:44   BIC                            780.127\n",
       "Sample:                    02-01-2017   HQIC                           775.175\n",
       "                         - 12-01-2026                                         \n",
       "==============================================================================\n",
       "                 coef    std err          z      P>|z|      [0.025      0.975]\n",
       "------------------------------------------------------------------------------\n",
       "const         -0.6175      0.524     -1.179      0.241      -1.644       0.409\n",
       "ma.L1.D.y     -0.0546      0.093     -0.588      0.558      -0.237       0.127\n",
       "                                    Roots                                    \n",
       "=============================================================================\n",
       "                  Real          Imaginary           Modulus         Frequency\n",
       "-----------------------------------------------------------------------------\n",
       "MA.1           18.3197           +0.0000j           18.3197            0.0000\n",
       "-----------------------------------------------------------------------------\n",
       "\"\"\""
      ]
     },
     "execution_count": 10,
     "metadata": {},
     "output_type": "execute_result"
    }
   ],
   "source": [
    "model = ARIMA(sampleTs, order=(0, 1, 1)) \n",
    "\n",
    "movingAvgRes = model.fit()\n",
    "\n",
    "movingAvgRes.summary()"
   ]
  },
  {
   "cell_type": "code",
   "execution_count": 11,
   "metadata": {},
   "outputs": [
    {
     "name": "stderr",
     "output_type": "stream",
     "text": [
      "C:\\ProgramData\\Anaconda3\\lib\\site-packages\\scipy\\signal\\signaltools.py:1344: FutureWarning: Using a non-tuple sequence for multidimensional indexing is deprecated; use `arr[tuple(seq)]` instead of `arr[seq]`. In the future this will be interpreted as an array index, `arr[np.array(seq)]`, which will result either in an error or a different result.\n",
      "  out = out_full[ind]\n"
     ]
    },
    {
     "data": {
      "text/plain": [
       "(array([-66.05973594]),\n",
       " array([6.04150608]),\n",
       " array([[-77.90087027, -54.21860161]]))"
      ]
     },
     "execution_count": 11,
     "metadata": {},
     "output_type": "execute_result"
    }
   ],
   "source": [
    "movingAvgRes.forecast()"
   ]
  },
  {
   "cell_type": "code",
   "execution_count": null,
   "metadata": {},
   "outputs": [],
   "source": []
  }
 ],
 "metadata": {
  "kernelspec": {
   "display_name": "Python 3",
   "language": "python",
   "name": "python3"
  },
  "language_info": {
   "codemirror_mode": {
    "name": "ipython",
    "version": 3
   },
   "file_extension": ".py",
   "mimetype": "text/x-python",
   "name": "python",
   "nbconvert_exporter": "python",
   "pygments_lexer": "ipython3",
   "version": "3.7.0"
  }
 },
 "nbformat": 4,
 "nbformat_minor": 2
}
