{
 "cells": [
  {
   "cell_type": "markdown",
   "metadata": {
    "colab_type": "text",
    "id": "qeA-D2bNFKvu"
   },
   "source": [
    "# K-Means Clustering - Detailed Tutorial with Hands-on"
   ]
  },
  {
   "cell_type": "markdown",
   "metadata": {
    "colab_type": "text",
    "id": "WxWu2r2BFfMN"
   },
   "source": [
    "#### Clustering falls under the Unserpervised Machine Leaning Family. \n",
    "\n",
    "More on the Machine Learning Classification:\n",
    "<img src=https://raw.githubusercontent.com/nadarsubash/articles/master/ML_Classification.jpeg width=600 heigth=600) />\n",
    "\n",
    "## K-Means is a Heuristic Algorithm which groups together relatively closer objects into K Clusters \n",
    "K-Means is one of the most widely used Clustering algorithm "
   ]
  },
  {
   "cell_type": "markdown",
   "metadata": {
    "colab": {},
    "colab_type": "code",
    "id": "r1K-DortFOGF"
   },
   "source": [
    "##### Steps involved in K-Means algorithm"
   ]
  },
  {
   "cell_type": "markdown",
   "metadata": {},
   "source": [
    "### Step 1) Let's first take some sample data *(what better than iris data)*"
   ]
  },
  {
   "cell_type": "markdown",
   "metadata": {},
   "source": [
    "We are taking very few samples (records) of each species for this Tutorial <br>\n",
    "*Complete dataset is freely available [here](https://archive.ics.uci.edu/ml/datasets/Iris)*"
   ]
  },
  {
   "attachments": {},
   "cell_type": "markdown",
   "metadata": {},
   "source": [
    "|Data #\t|sepal length in cm\t|sepal width in cm\t|class|\n",
    "|-----|-----|-----|-----|\n",
    "|1\t|6.3\t|3.3\t|Iris-virginica|\n",
    "|2\t|5.8\t|2.7\t|Iris-virginica|\n",
    "|3\t|7.1\t|3\t|Iris-virginica|\n",
    "|4\t|5.1\t|3.5\t|Iris-setosa|\n",
    "|5\t|4.9\t|3\t|Iris-setosa|\n",
    "|6\t|4.7\t|3.2\t|Iris-setosa|\n",
    "|7\t|4.6\t|3.1\t|Iris-setosa|\n",
    "|8\t|7\t|3.2\t|Iris-versicolor|\n",
    "|9\t|6.4\t|3.2\t|Iris-versicolor|\n",
    "|10\t|6.9\t|3.1\t|Iris-versicolor|\n",
    "|11\t|5.5\t|2.3\t|Iris-versicolor|"
   ]
  },
  {
   "cell_type": "markdown",
   "metadata": {},
   "source": [
    "for simplicity sake, we shall only consider two dimentional data i.e. only sepal length and width"
   ]
  },
  {
   "cell_type": "code",
   "execution_count": 111,
   "metadata": {
    "scrolled": true
   },
   "outputs": [
    {
     "data": {
      "image/png": "[encoded data removed]",
      "text/plain": [
       "<Figure size 432x288 with 1 Axes>"
      ]
     },
     "metadata": {
      "needs_background": "light"
     },
     "output_type": "display_data"
    }
   ],
   "source": [
    "# Lets plot a scatter chart, which shall help us in guessing the no. of clusters we may need\n",
    "\n",
    "import matplotlib.pyplot as plt\n",
    "x = [6.3, 5.8, 7.1, 5.1, 4.9, 4.7, 4.6, 7, 6.4, 6.9, 5.5]\n",
    "y = [3.3, 2.7, 3, 3.5, 3, 3.2, 3.1, 3.2, 3.2, 3.1, 2.3]\n",
    "plt.scatter(x,y)\n",
    "plt.show()"
   ]
  },
  {
   "cell_type": "markdown",
   "metadata": {},
   "source": [
    "### Step 2) Decide no. of clusters *(randomly based on above plot)* "
   ]
  },
  {
   "cell_type": "markdown",
   "metadata": {},
   "source": [
    "Again for simplicity sake, we go with **k=3**, as our aim is to understand what happens in the background of the K-Means algorithm.\n",
    "\n",
    "*N.B.* We can use Elbow method using Within-Cluster-Sum-of-Squares (WCSS) in Python to decide optimized number of *k*. This is explained in detail in the exercise **below**  *(KMeans clustering using package from SciKitLearn)*"
   ]
  },
  {
   "cell_type": "markdown",
   "metadata": {},
   "source": [
    "### Step 3) Identify the Centroids *$C_{i}$*"
   ]
  },
  {
   "cell_type": "markdown",
   "metadata": {},
   "source": [
    "Let's take Data # 1, 4 & 8 as the centroid for the first iteration <br>\n",
    "$C_{1}$ = (6.3, 3.3) <br>\n",
    "$C_{2}$ = (5.1, 3.5) <br>\n",
    "$C_{3}$ = (7.0, 3.2) <br>"
   ]
  },
  {
   "cell_type": "code",
   "execution_count": 95,
   "metadata": {},
   "outputs": [
    {
     "data": {
      "image/png": "[encoded data removed]",
      "text/plain": [
       "<Figure size 432x288 with 1 Axes>"
      ]
     },
     "metadata": {
      "needs_background": "light"
     },
     "output_type": "display_data"
    }
   ],
   "source": [
    "import matplotlib.pyplot as plt\n",
    "x = [6.3, 5.8, 7.1, 5.1, 4.9, 4.7, 4.6, 7, 6.4, 6.9, 5.5]\n",
    "y = [3.3, 2.7, 3, 3.5, 3, 3.2, 3.1, 3.2, 3.2, 3.1, 2.3]\n",
    "\n",
    "cx = [6.3, 5.1, 7]\n",
    "cy = [3.3, 3.5, 3.2]\n",
    "\n",
    "plt.scatter(x,y)\n",
    "plt.scatter(cx,cy,label='Centroids',color='red',marker='1')\n",
    "\n",
    "plt.legend()\n",
    "plt.show()"
   ]
  },
  {
   "cell_type": "markdown",
   "metadata": {},
   "source": [
    "### Step 4) Measure the distance between the Centroids and each of the data points"
   ]
  },
  {
   "cell_type": "markdown",
   "metadata": {},
   "source": [
    "This distance shall help us decide which point is closeset to which Centroid, which in turn shall help us decide to form clusters (groups)"
   ]
  },
  {
   "cell_type": "markdown",
   "metadata": {},
   "source": [
    "Let's use **Manhattan Distance** for this calculation <br>\n",
    "*You may as well check other distance calculation methods like Euclidean, Minkowski distance etc*"
   ]
  },
  {
   "cell_type": "markdown",
   "metadata": {},
   "source": [
    "Manhattan Distance between data point **X**(x1, y1) and centroid **C**(x2, y2) is: <br>\n",
    "Distance **dist(X, C)** = |x1 – x2| + |y1 – y2|\n",
    "\n",
    "**ITERATION 1**"
   ]
  },
  {
   "attachments": {},
   "cell_type": "markdown",
   "metadata": {},
   "source": [
    "|Data #\t|sepal length in cm\t|sepal width in cm\t|Dist. from C1\t|Dist. from C2\t|Dist. from C3\t|Cluster tagged|\n",
    "|---|-------|-------|-------|-------|------|---|\n",
    "|1\t|6.3\t|3.3\t|0.00\t|1.00\t|0.60\t|C1|\n",
    "|2\t|5.8\t|2.7\t|1.10\t|0.10\t|1.70\t|C2|\n",
    "|3\t|7.1\t|3.0\t|0.50\t|1.50\t|0.10\t|C3|\n",
    "|4\t|5.1\t|3.5\t|1.00\t|0.00\t|1.60\t|C2|\n",
    "|5\t|4.9\t|3.0\t|1.70\t|0.70\t|2.30\t|C2|\n",
    "|6\t|4.7\t|3.2\t|1.70\t|0.70\t|2.30\t|C2|\n",
    "|7\t|4.6\t|3.1\t|1.90\t|0.90\t|2.50\t|C2|\n",
    "|8\t|7.0\t|3.2\t|0.60\t|1.60\t|0.00\t|C3|\n",
    "|9\t|6.4\t|3.2\t|0.00\t|1.00\t|0.60\t|C1|\n",
    "|10\t|6.9\t|3.1\t|0.40\t|1.40\t|0.20\t|C3|\n",
    "|11\t|5.5\t|2.3\t|1.80\t|0.80\t|2.40\t|C2|"
   ]
  },
  {
   "cell_type": "markdown",
   "metadata": {},
   "source": [
    "### Step 5) Now calculate new centroid location based on the 'Cluster tagged'"
   ]
  },
  {
   "cell_type": "markdown",
   "metadata": {},
   "source": [
    "Formula for calculating new centroids:\n",
    "$$C_{x}=(\\frac{1}{n})\\sum_{i=1}^{n}x_{i}$$    $$C_{y}=(\\frac{1}{n})\\sum_{i=1}^{n}y_{i}$$"
   ]
  },
  {
   "cell_type": "markdown",
   "metadata": {},
   "source": [
    "##### New Centroids are:\n",
    "$C_{1}$ = (6.35, 3.25) <br>\n",
    "$C_{2}$ = (5.1, 2.97) <br>\n",
    "$C_{3}$ = (7.0, 3.1) <br>"
   ]
  },
  {
   "cell_type": "code",
   "execution_count": 112,
   "metadata": {},
   "outputs": [
    {
     "data": {
      "image/png": "[encoded data removed]",
      "text/plain": [
       "<Figure size 432x288 with 1 Axes>"
      ]
     },
     "metadata": {
      "needs_background": "light"
     },
     "output_type": "display_data"
    }
   ],
   "source": [
    "import matplotlib.pyplot as plt\n",
    "x = [6.3, 5.8, 7.1, 5.1, 4.9, 4.7, 4.6, 7, 6.4, 6.9, 5.5]\n",
    "y = [3.3, 2.7, 3, 3.5, 3, 3.2, 3.1, 3.2, 3.2, 3.1, 2.3]\n",
    "\n",
    "cx = [6.35, 5.1, 7]\n",
    "cy = [3.25, 2.97, 3.1]\n",
    "\n",
    "plt.scatter(x,y)\n",
    "plt.scatter(cx,cy,label='New Centroids',color='red',marker='1')\n",
    "\n",
    "plt.legend()\n",
    "plt.show()"
   ]
  },
  {
   "cell_type": "markdown",
   "metadata": {},
   "source": [
    "### Step 6) Iterate Step 4 and Step 5 till there is no change to the Centroid"
   ]
  },
  {
   "cell_type": "markdown",
   "metadata": {},
   "source": [
    "In this example, there is no change to the Centroid in the 2nd Iteration, hence we can assume this to be the most optimum Centroid\n",
    "\n",
    "**ITERATION 2**"
   ]
  },
  {
   "attachments": {},
   "cell_type": "markdown",
   "metadata": {},
   "source": [
    "|Data #\t|sepal length in cm\t|sepal width in cm\t|Dist. from C1\t|Dist. from C2\t|Dist. from C3\t|Cluster tagged\t|\n",
    "|---|---|---|---|---|---|---|\n",
    "|\t1\t|\t6.3\t|\t3.3\t|\t0.0\t|\t1.5\t|\t0.5\t|\tC1\t|\n",
    "|\t9\t|\t6.4\t|\t3.2\t|\t0.0\t|\t1.5\t|\t0.5\t|\tC1\t|\n",
    "|\t2\t|\t5.8\t|\t2.7\t|\t1.1\t|\t0.4\t|\t1.6\t|\tC2\t|\n",
    "|\t4\t|\t5.1\t|\t3.5\t|\t1.0\t|\t0.5\t|\t1.5\t|\tC2\t|\n",
    "|\t5\t|\t4.9\t|\t3\t|\t1.7\t|\t0.2\t|\t2.2\t|\tC2\t|\n",
    "|\t6\t|\t4.7\t|\t3.2\t|\t1.7\t|\t0.2\t|\t2.2\t|\tC2\t|\n",
    "|\t7\t|\t4.6\t|\t3.1\t|\t1.9\t|\t0.4\t|\t2.4\t|\tC2\t|\n",
    "|\t11\t|\t5.5\t|\t2.3\t|\t1.8\t|\t0.3\t|\t2.3\t|\tC2\t|\n",
    "|\t3\t|\t7.1\t|\t3\t|\t0.5\t|\t2.0\t|\t0.0\t|\tC3\t|\n",
    "|\t8\t|\t7\t|\t3.2\t|\t0.6\t|\t2.1\t|\t0.1\t|\tC3\t|\n",
    "|\t10\t|\t6.9\t|\t3.1\t|\t0.4\t|\t1.9\t|\t0.1\t|\tC3\t|"
   ]
  },
  {
   "cell_type": "markdown",
   "metadata": {},
   "source": [
    "##### Let's see pictorial representation of the above formed clusters"
   ]
  },
  {
   "cell_type": "code",
   "execution_count": 97,
   "metadata": {},
   "outputs": [
    {
     "data": {
      "image/png": "[encoded data removed]",
      "text/plain": [
       "<Figure size 432x288 with 1 Axes>"
      ]
     },
     "metadata": {
      "needs_background": "light"
     },
     "output_type": "display_data"
    }
   ],
   "source": [
    "x1 = [6.3, 6.4]\n",
    "y1 = [3.3, 3.2]\n",
    "x2 = [5.8, 5.1, 4.9, 4.7, 4.6, 5.5]\n",
    "y2 = [2.7, 3.5, 3, 3.2, 3.1, 2.3]\n",
    "x3 = [7.1, 7, 6.9]\n",
    "y3 = [3, 3.2, 3.1]\n",
    "plt.scatter(x1,y1,color='r')\n",
    "plt.scatter(x2,y2,color='b')\n",
    "plt.scatter(x3,y3,color='g')\n",
    "plt.scatter(cx,cy,label='Centroids',color='red',marker='1')\n",
    "plt.legend()\n",
    "plt.show()"
   ]
  },
  {
   "cell_type": "markdown",
   "metadata": {},
   "source": [
    "##### Let's compare above plot with the Pictorial representation of the Original Distribution"
   ]
  },
  {
   "cell_type": "code",
   "execution_count": 98,
   "metadata": {},
   "outputs": [
    {
     "data": {
      "image/png": "[encoded data removed]",
      "text/plain": [
       "<Figure size 432x288 with 1 Axes>"
      ]
     },
     "metadata": {
      "needs_background": "light"
     },
     "output_type": "display_data"
    }
   ],
   "source": [
    "x1 = [6.3, 5.8, 7.1]\n",
    "y1 = [3.3, 2.7, 3]\n",
    "x2 = [5.1, 4.9, 4.7, 4.6]\n",
    "y2 = [3.5, 3, 3.2, 3.1]\n",
    "x3 = [7, 6.4, 6.9, 5.5]\n",
    "y3 = [3.2, 3.2, 3.1, 2.3]\n",
    "plt.scatter(x1,y1,color='r')\n",
    "plt.scatter(x2,y2,color='b')\n",
    "plt.scatter(x3,y3,color='g')\n",
    "plt.show()"
   ]
  },
  {
   "cell_type": "markdown",
   "metadata": {},
   "source": [
    "Hmm, our KMeans exercise seems to have fit the objects relatively accurate :)\n",
    "\n",
    "This concludes the Tutorial for K-Means clustering"
   ]
  },
  {
   "cell_type": "markdown",
   "metadata": {},
   "source": [
    "-----"
   ]
  },
  {
   "cell_type": "markdown",
   "metadata": {},
   "source": [
    "#### Let's take a look at the newly created clusters vis-a-vis Actual Class as per the original data"
   ]
  },
  {
   "attachments": {},
   "cell_type": "markdown",
   "metadata": {},
   "source": [
    "|\tCluster tagged\t|\tActual Class\t|\n",
    "|---|---|\n",
    "|\tC1\t|\tIris-virginica\t|\n",
    "|\tC1\t|\tIris-versicolor\t|\n",
    "|\tC2\t|\tIris-virginica\t|\n",
    "|\tC2\t|\tIris-setosa\t|\n",
    "|\tC2\t|\tIris-setosa\t|\n",
    "|\tC2\t|\tIris-setosa\t|\n",
    "|\tC2\t|\tIris-setosa\t|\n",
    "|\tC2\t|\tIris-versicolor\t|\n",
    "|\tC3\t|\tIris-virginica\t|\n",
    "|\tC3\t|\tIris-versicolor\t|\n",
    "|\tC3\t|\tIris-versicolor\t|"
   ]
  },
  {
   "cell_type": "markdown",
   "metadata": {},
   "source": [
    "As you can see, there are some discrepencies. The two main reason for this discrepency is:<br>\n",
    "**1)Inadequate Features:** We have considered only Sepal Length and Width and have not taken into consideration Petal Length & Width <br>\n",
    "**2)Low Sample:** We have considered very few Data Points <br>\n",
    "\n",
    "Above pointers are a good learing lessons and stresses on the point  how critical is to identify right number of Features and Samples"
   ]
  },
  {
   "cell_type": "markdown",
   "metadata": {},
   "source": [
    "----"
   ]
  },
  {
   "cell_type": "markdown",
   "metadata": {},
   "source": [
    "# Python Exercise:"
   ]
  },
  {
   "cell_type": "markdown",
   "metadata": {},
   "source": [
    "## Let's use KMeans package from Scikit learn to perform this exercise on entire Iris dataset"
   ]
  },
  {
   "cell_type": "code",
   "execution_count": 99,
   "metadata": {},
   "outputs": [],
   "source": [
    "#to read and format the Iris file\n",
    "import pandas as pd \n",
    "\n",
    "#package to perform Kmeans algorithm\n",
    "from sklearn.cluster import KMeans \n",
    "\n",
    "#For numerical functions\n",
    "import numpy as np\n",
    "\n",
    "#for graphs\n",
    "import matplotlib.pyplot as plt\n",
    "from mpl_toolkits import mplot3d"
   ]
  },
  {
   "cell_type": "code",
   "execution_count": 100,
   "metadata": {},
   "outputs": [
    {
     "data": {
      "text/html": [
       "<div>\n",
       "<style scoped>\n",
       "    .dataframe tbody tr th:only-of-type {\n",
       "        vertical-align: middle;\n",
       "    }\n",
       "\n",
       "    .dataframe tbody tr th {\n",
       "        vertical-align: top;\n",
       "    }\n",
       "\n",
       "    .dataframe thead th {\n",
       "        text-align: right;\n",
       "    }\n",
       "</style>\n",
       "<table border=\"1\" class=\"dataframe\">\n",
       "  <thead>\n",
       "    <tr style=\"text-align: right;\">\n",
       "      <th></th>\n",
       "      <th>sepal_length</th>\n",
       "      <th>sepal_width</th>\n",
       "      <th>petal_length</th>\n",
       "      <th>petal_width</th>\n",
       "      <th>class</th>\n",
       "    </tr>\n",
       "  </thead>\n",
       "  <tbody>\n",
       "    <tr>\n",
       "      <th>0</th>\n",
       "      <td>4.9</td>\n",
       "      <td>3.0</td>\n",
       "      <td>1.4</td>\n",
       "      <td>0.2</td>\n",
       "      <td>Iris-setosa</td>\n",
       "    </tr>\n",
       "    <tr>\n",
       "      <th>1</th>\n",
       "      <td>4.7</td>\n",
       "      <td>3.2</td>\n",
       "      <td>1.3</td>\n",
       "      <td>0.2</td>\n",
       "      <td>Iris-setosa</td>\n",
       "    </tr>\n",
       "    <tr>\n",
       "      <th>2</th>\n",
       "      <td>4.6</td>\n",
       "      <td>3.1</td>\n",
       "      <td>1.5</td>\n",
       "      <td>0.2</td>\n",
       "      <td>Iris-setosa</td>\n",
       "    </tr>\n",
       "    <tr>\n",
       "      <th>3</th>\n",
       "      <td>5.0</td>\n",
       "      <td>3.6</td>\n",
       "      <td>1.4</td>\n",
       "      <td>0.2</td>\n",
       "      <td>Iris-setosa</td>\n",
       "    </tr>\n",
       "    <tr>\n",
       "      <th>4</th>\n",
       "      <td>5.4</td>\n",
       "      <td>3.9</td>\n",
       "      <td>1.7</td>\n",
       "      <td>0.4</td>\n",
       "      <td>Iris-setosa</td>\n",
       "    </tr>\n",
       "  </tbody>\n",
       "</table>\n",
       "</div>"
      ],
      "text/plain": [
       "   sepal_length  sepal_width  petal_length  petal_width        class\n",
       "0           4.9          3.0           1.4          0.2  Iris-setosa\n",
       "1           4.7          3.2           1.3          0.2  Iris-setosa\n",
       "2           4.6          3.1           1.5          0.2  Iris-setosa\n",
       "3           5.0          3.6           1.4          0.2  Iris-setosa\n",
       "4           5.4          3.9           1.7          0.4  Iris-setosa"
      ]
     },
     "execution_count": 100,
     "metadata": {},
     "output_type": "execute_result"
    }
   ],
   "source": [
    "#Read the Iris dataset which is available online\n",
    "data = pd.read_csv(\"https://archive.ics.uci.edu/ml/machine-learning-databases/iris/iris.data\")\n",
    "\n",
    "#add headers to the file\n",
    "attributes = [\"sepal_length\", \"sepal_width\", \"petal_length\", \"petal_width\", \"class\"]\n",
    "data.columns = attributes\n",
    "data.head()"
   ]
  },
  {
   "cell_type": "code",
   "execution_count": 101,
   "metadata": {},
   "outputs": [],
   "source": [
    "# converting class names (string) to numbers which will aid us in plotting\n",
    "data['class-num'] = data['class'].map( {'Iris-setosa': 0,'Iris-versicolor': 1,'Iris-virginica': 2} )"
   ]
  },
  {
   "cell_type": "code",
   "execution_count": 102,
   "metadata": {},
   "outputs": [
    {
     "data": {
      "text/html": [
       "<div>\n",
       "<style scoped>\n",
       "    .dataframe tbody tr th:only-of-type {\n",
       "        vertical-align: middle;\n",
       "    }\n",
       "\n",
       "    .dataframe tbody tr th {\n",
       "        vertical-align: top;\n",
       "    }\n",
       "\n",
       "    .dataframe thead th {\n",
       "        text-align: right;\n",
       "    }\n",
       "</style>\n",
       "<table border=\"1\" class=\"dataframe\">\n",
       "  <thead>\n",
       "    <tr style=\"text-align: right;\">\n",
       "      <th></th>\n",
       "      <th>sepal_length</th>\n",
       "      <th>sepal_width</th>\n",
       "      <th>petal_length</th>\n",
       "      <th>petal_width</th>\n",
       "      <th>class</th>\n",
       "      <th>class-num</th>\n",
       "    </tr>\n",
       "  </thead>\n",
       "  <tbody>\n",
       "    <tr>\n",
       "      <th>0</th>\n",
       "      <td>4.9</td>\n",
       "      <td>3.0</td>\n",
       "      <td>1.4</td>\n",
       "      <td>0.2</td>\n",
       "      <td>Iris-setosa</td>\n",
       "      <td>0</td>\n",
       "    </tr>\n",
       "    <tr>\n",
       "      <th>1</th>\n",
       "      <td>4.7</td>\n",
       "      <td>3.2</td>\n",
       "      <td>1.3</td>\n",
       "      <td>0.2</td>\n",
       "      <td>Iris-setosa</td>\n",
       "      <td>0</td>\n",
       "    </tr>\n",
       "    <tr>\n",
       "      <th>2</th>\n",
       "      <td>4.6</td>\n",
       "      <td>3.1</td>\n",
       "      <td>1.5</td>\n",
       "      <td>0.2</td>\n",
       "      <td>Iris-setosa</td>\n",
       "      <td>0</td>\n",
       "    </tr>\n",
       "    <tr>\n",
       "      <th>3</th>\n",
       "      <td>5.0</td>\n",
       "      <td>3.6</td>\n",
       "      <td>1.4</td>\n",
       "      <td>0.2</td>\n",
       "      <td>Iris-setosa</td>\n",
       "      <td>0</td>\n",
       "    </tr>\n",
       "    <tr>\n",
       "      <th>4</th>\n",
       "      <td>5.4</td>\n",
       "      <td>3.9</td>\n",
       "      <td>1.7</td>\n",
       "      <td>0.4</td>\n",
       "      <td>Iris-setosa</td>\n",
       "      <td>0</td>\n",
       "    </tr>\n",
       "  </tbody>\n",
       "</table>\n",
       "</div>"
      ],
      "text/plain": [
       "   sepal_length  sepal_width  petal_length  petal_width        class  \\\n",
       "0           4.9          3.0           1.4          0.2  Iris-setosa   \n",
       "1           4.7          3.2           1.3          0.2  Iris-setosa   \n",
       "2           4.6          3.1           1.5          0.2  Iris-setosa   \n",
       "3           5.0          3.6           1.4          0.2  Iris-setosa   \n",
       "4           5.4          3.9           1.7          0.4  Iris-setosa   \n",
       "\n",
       "   class-num  \n",
       "0          0  \n",
       "1          0  \n",
       "2          0  \n",
       "3          0  \n",
       "4          0  "
      ]
     },
     "execution_count": 102,
     "metadata": {},
     "output_type": "execute_result"
    }
   ],
   "source": [
    "data.head()"
   ]
  },
  {
   "cell_type": "code",
   "execution_count": 103,
   "metadata": {},
   "outputs": [
    {
     "data": {
      "text/html": [
       "<div>\n",
       "<style scoped>\n",
       "    .dataframe tbody tr th:only-of-type {\n",
       "        vertical-align: middle;\n",
       "    }\n",
       "\n",
       "    .dataframe tbody tr th {\n",
       "        vertical-align: top;\n",
       "    }\n",
       "\n",
       "    .dataframe thead th {\n",
       "        text-align: right;\n",
       "    }\n",
       "</style>\n",
       "<table border=\"1\" class=\"dataframe\">\n",
       "  <thead>\n",
       "    <tr style=\"text-align: right;\">\n",
       "      <th></th>\n",
       "      <th>sepal_length</th>\n",
       "      <th>sepal_width</th>\n",
       "      <th>petal_length</th>\n",
       "      <th>petal_width</th>\n",
       "    </tr>\n",
       "  </thead>\n",
       "  <tbody>\n",
       "    <tr>\n",
       "      <th>0</th>\n",
       "      <td>4.9</td>\n",
       "      <td>3.0</td>\n",
       "      <td>1.4</td>\n",
       "      <td>0.2</td>\n",
       "    </tr>\n",
       "    <tr>\n",
       "      <th>1</th>\n",
       "      <td>4.7</td>\n",
       "      <td>3.2</td>\n",
       "      <td>1.3</td>\n",
       "      <td>0.2</td>\n",
       "    </tr>\n",
       "    <tr>\n",
       "      <th>2</th>\n",
       "      <td>4.6</td>\n",
       "      <td>3.1</td>\n",
       "      <td>1.5</td>\n",
       "      <td>0.2</td>\n",
       "    </tr>\n",
       "    <tr>\n",
       "      <th>3</th>\n",
       "      <td>5.0</td>\n",
       "      <td>3.6</td>\n",
       "      <td>1.4</td>\n",
       "      <td>0.2</td>\n",
       "    </tr>\n",
       "    <tr>\n",
       "      <th>4</th>\n",
       "      <td>5.4</td>\n",
       "      <td>3.9</td>\n",
       "      <td>1.7</td>\n",
       "      <td>0.4</td>\n",
       "    </tr>\n",
       "  </tbody>\n",
       "</table>\n",
       "</div>"
      ],
      "text/plain": [
       "   sepal_length  sepal_width  petal_length  petal_width\n",
       "0           4.9          3.0           1.4          0.2\n",
       "1           4.7          3.2           1.3          0.2\n",
       "2           4.6          3.1           1.5          0.2\n",
       "3           5.0          3.6           1.4          0.2\n",
       "4           5.4          3.9           1.7          0.4"
      ]
     },
     "execution_count": 103,
     "metadata": {},
     "output_type": "execute_result"
    }
   ],
   "source": [
    "#Define the features to be used for the algo i.e. remove column 'class' which is not required for the algo\n",
    "X = data.drop(columns=[\"class\",\"class-num\"])\n",
    "\n",
    "#Let's see the first five records in the file\n",
    "X.head()"
   ]
  },
  {
   "cell_type": "code",
   "execution_count": 104,
   "metadata": {},
   "outputs": [
    {
     "data": {
      "text/html": [
       "<div>\n",
       "<style scoped>\n",
       "    .dataframe tbody tr th:only-of-type {\n",
       "        vertical-align: middle;\n",
       "    }\n",
       "\n",
       "    .dataframe tbody tr th {\n",
       "        vertical-align: top;\n",
       "    }\n",
       "\n",
       "    .dataframe thead th {\n",
       "        text-align: right;\n",
       "    }\n",
       "</style>\n",
       "<table border=\"1\" class=\"dataframe\">\n",
       "  <thead>\n",
       "    <tr style=\"text-align: right;\">\n",
       "      <th></th>\n",
       "      <th>sepal_length</th>\n",
       "      <th>sepal_width</th>\n",
       "      <th>petal_length</th>\n",
       "      <th>petal_width</th>\n",
       "      <th>class-num</th>\n",
       "    </tr>\n",
       "  </thead>\n",
       "  <tbody>\n",
       "    <tr>\n",
       "      <th>count</th>\n",
       "      <td>149.000000</td>\n",
       "      <td>149.000000</td>\n",
       "      <td>149.000000</td>\n",
       "      <td>149.000000</td>\n",
       "      <td>149.000000</td>\n",
       "    </tr>\n",
       "    <tr>\n",
       "      <th>mean</th>\n",
       "      <td>5.848322</td>\n",
       "      <td>3.051007</td>\n",
       "      <td>3.774497</td>\n",
       "      <td>1.205369</td>\n",
       "      <td>1.006711</td>\n",
       "    </tr>\n",
       "    <tr>\n",
       "      <th>std</th>\n",
       "      <td>0.828594</td>\n",
       "      <td>0.433499</td>\n",
       "      <td>1.759651</td>\n",
       "      <td>0.761292</td>\n",
       "      <td>0.817847</td>\n",
       "    </tr>\n",
       "    <tr>\n",
       "      <th>min</th>\n",
       "      <td>4.300000</td>\n",
       "      <td>2.000000</td>\n",
       "      <td>1.000000</td>\n",
       "      <td>0.100000</td>\n",
       "      <td>0.000000</td>\n",
       "    </tr>\n",
       "    <tr>\n",
       "      <th>25%</th>\n",
       "      <td>5.100000</td>\n",
       "      <td>2.800000</td>\n",
       "      <td>1.600000</td>\n",
       "      <td>0.300000</td>\n",
       "      <td>0.000000</td>\n",
       "    </tr>\n",
       "    <tr>\n",
       "      <th>50%</th>\n",
       "      <td>5.800000</td>\n",
       "      <td>3.000000</td>\n",
       "      <td>4.400000</td>\n",
       "      <td>1.300000</td>\n",
       "      <td>1.000000</td>\n",
       "    </tr>\n",
       "    <tr>\n",
       "      <th>75%</th>\n",
       "      <td>6.400000</td>\n",
       "      <td>3.300000</td>\n",
       "      <td>5.100000</td>\n",
       "      <td>1.800000</td>\n",
       "      <td>2.000000</td>\n",
       "    </tr>\n",
       "    <tr>\n",
       "      <th>max</th>\n",
       "      <td>7.900000</td>\n",
       "      <td>4.400000</td>\n",
       "      <td>6.900000</td>\n",
       "      <td>2.500000</td>\n",
       "      <td>2.000000</td>\n",
       "    </tr>\n",
       "  </tbody>\n",
       "</table>\n",
       "</div>"
      ],
      "text/plain": [
       "       sepal_length  sepal_width  petal_length  petal_width   class-num\n",
       "count    149.000000   149.000000    149.000000   149.000000  149.000000\n",
       "mean       5.848322     3.051007      3.774497     1.205369    1.006711\n",
       "std        0.828594     0.433499      1.759651     0.761292    0.817847\n",
       "min        4.300000     2.000000      1.000000     0.100000    0.000000\n",
       "25%        5.100000     2.800000      1.600000     0.300000    0.000000\n",
       "50%        5.800000     3.000000      4.400000     1.300000    1.000000\n",
       "75%        6.400000     3.300000      5.100000     1.800000    2.000000\n",
       "max        7.900000     4.400000      6.900000     2.500000    2.000000"
      ]
     },
     "execution_count": 104,
     "metadata": {},
     "output_type": "execute_result"
    }
   ],
   "source": [
    "#Let's see the data characteristic\n",
    "data.describe()"
   ]
  },
  {
   "cell_type": "markdown",
   "metadata": {},
   "source": [
    "### Next Step is to identify optimum number of clusters (k)\n",
    "Here we use **Elbow Method** *(clear elbow formed at the optimum cluster)* \n",
    "\n",
    "We plot the graph of Within-Cluster-Sum-of-Squares **(WCSS)** against the Total Number of clusters to view formation of elbow to arrive at the optimum number of cluster **k** \n",
    "\n",
    "**Idea is** - as the number of Clusters increases, sum of distance between the objects and it's respective clusters reduces *(objects get closer to their respective Cluster)*. But hey, we don't want to overfit either...correct. Hence the quest for optimum **k**"
   ]
  },
  {
   "cell_type": "markdown",
   "metadata": {},
   "source": [
    "WCSS is computed as:<br>\n",
    "$$WCSS=\\sum_{i=1}^k(\\sum_{j=1}^n (X_{j}-C_{i})^2)$$  <br>\n",
    "*where:* <br>\n",
    "*$C_{k}$ is centroid for observation $X_{i}$* <br>\n",
    "*k is number of centroids* <br>\n",
    "*n is number of objects within respective centroid* <br>"
   ]
  },
  {
   "cell_type": "code",
   "execution_count": 105,
   "metadata": {},
   "outputs": [
    {
     "data": {
      "image/png": "[encoded data removed]",
      "text/plain": [
       "<Figure size 432x288 with 1 Axes>"
      ]
     },
     "metadata": {
      "needs_background": "light"
     },
     "output_type": "display_data"
    }
   ],
   "source": [
    "wcss = []\n",
    "for i in range(1, 10):\n",
    "    kmeans = KMeans(n_clusters=i, init='k-means++', max_iter=300, n_init=10, random_state=0)\n",
    "    kmeans.fit(X)\n",
    "    wcss.append(kmeans.inertia_)\n",
    "plt.plot(range(1, 10), wcss)\n",
    "plt.title('Elbow-Method using WCSS')\n",
    "plt.xlabel('Number of Clusters (K)')\n",
    "plt.ylabel('Within-Cluster-Sum-of-Squares')\n",
    "plt.show()"
   ]
  },
  {
   "cell_type": "markdown",
   "metadata": {},
   "source": [
    "We can see from above plot that prominent elbows are formed between at 2, 3 and 4<br>\n",
    "Noticeably, WCSS reduces marginally below 3 and hence we select 3 as optimum **k**"
   ]
  },
  {
   "cell_type": "code",
   "execution_count": 106,
   "metadata": {},
   "outputs": [
    {
     "data": {
      "text/plain": [
       "KMeans(algorithm='auto', copy_x=True, init='k-means++', max_iter=300,\n",
       "       n_clusters=3, n_init=10, n_jobs=None, precompute_distances='auto',\n",
       "       random_state=0, tol=0.0001, verbose=0)"
      ]
     },
     "execution_count": 106,
     "metadata": {},
     "output_type": "execute_result"
    }
   ],
   "source": [
    "kmeans = KMeans(n_clusters=3, init='k-means++', max_iter=300, n_init=10, random_state=0)\n",
    "kmeans.fit(X)"
   ]
  },
  {
   "cell_type": "code",
   "execution_count": 107,
   "metadata": {},
   "outputs": [],
   "source": [
    "inertia = kmeans.predict(X)"
   ]
  },
  {
   "cell_type": "code",
   "execution_count": 108,
   "metadata": {},
   "outputs": [
    {
     "data": {
      "text/html": [
       "<div>\n",
       "<style scoped>\n",
       "    .dataframe tbody tr th:only-of-type {\n",
       "        vertical-align: middle;\n",
       "    }\n",
       "\n",
       "    .dataframe tbody tr th {\n",
       "        vertical-align: top;\n",
       "    }\n",
       "\n",
       "    .dataframe thead th {\n",
       "        text-align: right;\n",
       "    }\n",
       "</style>\n",
       "<table border=\"1\" class=\"dataframe\">\n",
       "  <thead>\n",
       "    <tr style=\"text-align: right;\">\n",
       "      <th></th>\n",
       "      <th>sepal_length</th>\n",
       "      <th>sepal_width</th>\n",
       "      <th>petal_length</th>\n",
       "      <th>petal_width</th>\n",
       "      <th>Clusters</th>\n",
       "    </tr>\n",
       "  </thead>\n",
       "  <tbody>\n",
       "    <tr>\n",
       "      <th>0</th>\n",
       "      <td>4.9</td>\n",
       "      <td>3.0</td>\n",
       "      <td>1.4</td>\n",
       "      <td>0.2</td>\n",
       "      <td>0</td>\n",
       "    </tr>\n",
       "    <tr>\n",
       "      <th>1</th>\n",
       "      <td>4.7</td>\n",
       "      <td>3.2</td>\n",
       "      <td>1.3</td>\n",
       "      <td>0.2</td>\n",
       "      <td>0</td>\n",
       "    </tr>\n",
       "    <tr>\n",
       "      <th>2</th>\n",
       "      <td>4.6</td>\n",
       "      <td>3.1</td>\n",
       "      <td>1.5</td>\n",
       "      <td>0.2</td>\n",
       "      <td>0</td>\n",
       "    </tr>\n",
       "    <tr>\n",
       "      <th>3</th>\n",
       "      <td>5.0</td>\n",
       "      <td>3.6</td>\n",
       "      <td>1.4</td>\n",
       "      <td>0.2</td>\n",
       "      <td>0</td>\n",
       "    </tr>\n",
       "    <tr>\n",
       "      <th>4</th>\n",
       "      <td>5.4</td>\n",
       "      <td>3.9</td>\n",
       "      <td>1.7</td>\n",
       "      <td>0.4</td>\n",
       "      <td>0</td>\n",
       "    </tr>\n",
       "  </tbody>\n",
       "</table>\n",
       "</div>"
      ],
      "text/plain": [
       "   sepal_length  sepal_width  petal_length  petal_width  Clusters\n",
       "0           4.9          3.0           1.4          0.2         0\n",
       "1           4.7          3.2           1.3          0.2         0\n",
       "2           4.6          3.1           1.5          0.2         0\n",
       "3           5.0          3.6           1.4          0.2         0\n",
       "4           5.4          3.9           1.7          0.4         0"
      ]
     },
     "execution_count": 108,
     "metadata": {},
     "output_type": "execute_result"
    }
   ],
   "source": [
    "X[\"Clusters\"] = inertia\n",
    "X.head()"
   ]
  },
  {
   "cell_type": "markdown",
   "metadata": {},
   "source": [
    "### Let's plot the data based on cluster created using KMeans algo"
   ]
  },
  {
   "cell_type": "code",
   "execution_count": 109,
   "metadata": {},
   "outputs": [
    {
     "data": {
      "image/png": "[encoded data removed]",
      "text/plain": [
       "<Figure size 432x288 with 1 Axes>"
      ]
     },
     "metadata": {
      "needs_background": "light"
     },
     "output_type": "display_data"
    }
   ],
   "source": [
    "fig = plt.figure()\n",
    "ax = plt.axes(projection=\"3d\")\n",
    "ax.scatter3D(X['sepal_length'],X['sepal_width'],X['petal_length'],c=X['Clusters'],cmap='hsv')\n",
    "plt.show()"
   ]
  },
  {
   "cell_type": "markdown",
   "metadata": {},
   "source": [
    "### Let's compare the above plot with Original data (class)"
   ]
  },
  {
   "cell_type": "code",
   "execution_count": 110,
   "metadata": {},
   "outputs": [
    {
     "data": {
      "image/png": "[encoded data removed]",
      "text/plain": [
       "<Figure size 432x288 with 1 Axes>"
      ]
     },
     "metadata": {
      "needs_background": "light"
     },
     "output_type": "display_data"
    }
   ],
   "source": [
    "fig = plt.figure()\n",
    "ax = plt.axes(projection=\"3d\")\n",
    "ax.scatter3D(data['sepal_length'],data['sepal_width'],data['petal_length'],c=data['class-num'],cmap='hsv')\n",
    "plt.show()"
   ]
  },
  {
   "cell_type": "markdown",
   "metadata": {},
   "source": [
    "### KMeans Cluster has been able to largely group the points...well almost. This is a good begining!\n",
    "#### ....and the end of this Tutorial with Hands-on Exercise!"
   ]
  }
 ],
 "metadata": {
  "colab": {
   "name": "Clustering - KMeans - Tutorial.ipynb",
   "provenance": []
  },
  "kernelspec": {
   "display_name": "Python 3",
   "language": "python",
   "name": "python3"
  },
  "language_info": {
   "codemirror_mode": {
    "name": "ipython",
    "version": 3
   },
   "file_extension": ".py",
   "mimetype": "text/x-python",
   "name": "python",
   "nbconvert_exporter": "python",
   "pygments_lexer": "ipython3",
   "version": "3.7.3"
  }
 },
 "nbformat": 4,
 "nbformat_minor": 1
}
